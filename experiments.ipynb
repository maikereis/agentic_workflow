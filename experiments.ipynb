{
 "cells": [
  {
   "cell_type": "code",
   "execution_count": 866,
   "metadata": {},
   "outputs": [
    {
     "name": "stdout",
     "output_type": "stream",
     "text": [
      "The autoreload extension is already loaded. To reload it, use:\n",
      "  %reload_ext autoreload\n"
     ]
    }
   ],
   "source": [
    "%load_ext autoreload\n",
    "%autoreload 2"
   ]
  },
  {
   "cell_type": "markdown",
   "metadata": {},
   "source": [
    "#### Connect to local llama_server"
   ]
  },
  {
   "cell_type": "code",
   "execution_count": 867,
   "metadata": {},
   "outputs": [],
   "source": [
    "from ollama import Client\n",
    "from IPython.display import display_markdown\n",
    "\n",
    "client = Client(host='http://localhost:11435')"
   ]
  },
  {
   "cell_type": "code",
   "execution_count": 868,
   "metadata": {},
   "outputs": [],
   "source": [
    "model_name = 'qwen2.5-coder:1.5b'"
   ]
  },
  {
   "cell_type": "code",
   "execution_count": 869,
   "metadata": {},
   "outputs": [
    {
     "data": {
      "text/plain": [
       "{'status': 'success'}"
      ]
     },
     "execution_count": 869,
     "metadata": {},
     "output_type": "execute_result"
    }
   ],
   "source": [
    "# Pull a model\n",
    "result = client.pull(model=model_name)\n",
    "result"
   ]
  },
  {
   "cell_type": "markdown",
   "metadata": {},
   "source": [
    "## Create reflection agent"
   ]
  },
  {
   "cell_type": "code",
   "execution_count": 870,
   "metadata": {},
   "outputs": [],
   "source": [
    "generation_chat_history = []\n",
    "reflection_chat_history = []"
   ]
  },
  {
   "cell_type": "markdown",
   "metadata": {},
   "source": [
    "#### Pre-set the generation agent with a context and request"
   ]
  },
  {
   "cell_type": "code",
   "execution_count": 871,
   "metadata": {},
   "outputs": [],
   "source": [
    "generation_prompt = {\n",
    "    \"role\": \"system\",\n",
    "    \"content\": \"You are a experienced Python programmer tasked with generating high quality and very well documented Python code. If the user provides critique, respond with a revised version of your code from previous attempts.\",\n",
    "}\n",
    "\n",
    "request_prompt = {\n",
    "    \"role\": \"user\",\n",
    "    \"content\": \"Generate a python code with an implementation of a binary tree inversion.\",\n",
    "}"
   ]
  },
  {
   "cell_type": "code",
   "execution_count": 872,
   "metadata": {},
   "outputs": [],
   "source": [
    "generation_chat_history.append(generation_prompt)\n",
    "generation_chat_history.append(request_prompt)"
   ]
  },
  {
   "cell_type": "markdown",
   "metadata": {},
   "source": [
    "#### Generate a response to the request given the context."
   ]
  },
  {
   "cell_type": "code",
   "execution_count": 873,
   "metadata": {},
   "outputs": [],
   "source": [
    "# Generate\n",
    "generation_response = client.chat(model=model_name, messages=generation_chat_history)\n",
    "\n",
    "generation_response_content = generation_response['message']['content']\n",
    "\n",
    "# Assign the reponse the an entity called 'assistant'.\n",
    "request_reponse_prompt = {\n",
    "    \"role\": \"assistant\",\n",
    "    \"content\": generation_response_content,\n",
    "}\n",
    "\n",
    "# Add the LLM response to the chat history.\n",
    "generation_chat_history.append(request_reponse_prompt)"
   ]
  },
  {
   "cell_type": "code",
   "execution_count": 874,
   "metadata": {},
   "outputs": [
    {
     "data": {
      "text/markdown": [
       "Sure! Here is an example code for inverting a binary tree:\n",
       "```python\n",
       "class Node:\n",
       "    def __init__(self, value):\n",
       "        self.value = value\n",
       "        self.left = None\n",
       "        self.right = None\n",
       "\n",
       "def invert_tree(node):\n",
       "    if not node:\n",
       "        return\n",
       "    # Swap left and right children\n",
       "    node.left, node.right = node.right, node.left\n",
       "    \n",
       "    # Invert the left subtree\n",
       "    invert_tree(node.left)\n",
       "    \n",
       "    # Invert the right subtree\n",
       "    invert_tree(node.right)\n",
       "```\n",
       "This code defines a `Node` class that represents a node in the binary tree. The `invert_tree` function takes a `Node` object as input and recursively swaps the left and right children of the node. It also calls itself to invert the left and right subtrees.\n",
       "To use this code, you can create a new instance of the `Node` class and pass it to the `invert_tree` function:\n",
       "```python\n",
       "root = Node(1)\n",
       "root.left = Node(2)\n",
       "root.right = Node(3)\n",
       "root.left.left = Node(4)\n",
       "root.left.right = Node(5)\n",
       "root.right.left = Node(6)\n",
       "root.right.right = Node(7)\n",
       "\n",
       "print(\"Before inversion:\")\n",
       "pre_order_traversal(root)  # Output: 1, 2, 4, 5, 3, 6, 7\n",
       "\n",
       "invert_tree(root)\n",
       "\n",
       "print(\"\\nAfter inversion:\")\n",
       "pre_order_traversal(root)  # Output: 7, 6, 5, 4, 3, 2, 1\n",
       "```\n",
       "In this example, we first create a binary tree with some values. We then call the `invert_tree` function to invert the tree and print the results before and after inversion using the `pre_order_traversal` function."
      ]
     },
     "metadata": {},
     "output_type": "display_data"
    }
   ],
   "source": [
    "display_markdown(generation_response_content, raw=True)"
   ]
  },
  {
   "cell_type": "markdown",
   "metadata": {},
   "source": [
    "#### Pre-set the reflection agent with a context and request"
   ]
  },
  {
   "cell_type": "code",
   "execution_count": 875,
   "metadata": {},
   "outputs": [],
   "source": [
    "reflection_prompt = {\n",
    "    \"role\": \"system\",\n",
    "    \"content\": \"You are a experienced Python developer reponsible to supervise a software development project. You're tasked for creating and performing tests, identifying errors, and providing detailed feedback and recommendations to the user's code. Critique the code submitted for code quality, completeness, responsability, scope acucary and documentation.\",\n",
    "}\n",
    "\n",
    "critique_prompt = {\n",
    "    \"role\": \"user\",\n",
    "    \"content\": request_response,\n",
    "}\n",
    "\n",
    "\n",
    "reflection_chat_history.append(reflection_prompt)\n",
    "reflection_chat_history.append(critique_prompt)"
   ]
  },
  {
   "cell_type": "markdown",
   "metadata": {},
   "source": [
    "#### Generate a critique to the generated code."
   ]
  },
  {
   "cell_type": "code",
   "execution_count": 876,
   "metadata": {},
   "outputs": [],
   "source": [
    "critique_response = client.chat(model=model_name, messages=reflection_chat_history)\n",
    "critique_response_content = critique_response['message']['content']"
   ]
  },
  {
   "cell_type": "code",
   "execution_count": 877,
   "metadata": {},
   "outputs": [],
   "source": [
    "generation_chat_history.append({\n",
    "    \"role\": \"user\",\n",
    "    \"content\": critique_response_content\n",
    "})"
   ]
  },
  {
   "cell_type": "code",
   "execution_count": 880,
   "metadata": {},
   "outputs": [
    {
     "data": {
      "text/plain": [
       "[{'role': 'system',\n",
       "  'content': 'You are a experienced Python programmer tasked with generating high quality and very well documented Python code. If the user provides critique, respond with a revised version of your code from previous attempts.'},\n",
       " {'role': 'user',\n",
       "  'content': 'Generate a python code with an implementation of a binary tree inversion.'},\n",
       " {'role': 'assistant',\n",
       "  'content': 'Sure! Here is an example code for inverting a binary tree:\\n```python\\nclass Node:\\n    def __init__(self, value):\\n        self.value = value\\n        self.left = None\\n        self.right = None\\n\\ndef invert_tree(node):\\n    if not node:\\n        return\\n    # Swap left and right children\\n    node.left, node.right = node.right, node.left\\n    \\n    # Invert the left subtree\\n    invert_tree(node.left)\\n    \\n    # Invert the right subtree\\n    invert_tree(node.right)\\n```\\nThis code defines a `Node` class that represents a node in the binary tree. The `invert_tree` function takes a `Node` object as input and recursively swaps the left and right children of the node. It also calls itself to invert the left and right subtrees.\\nTo use this code, you can create a new instance of the `Node` class and pass it to the `invert_tree` function:\\n```python\\nroot = Node(1)\\nroot.left = Node(2)\\nroot.right = Node(3)\\nroot.left.left = Node(4)\\nroot.left.right = Node(5)\\nroot.right.left = Node(6)\\nroot.right.right = Node(7)\\n\\nprint(\"Before inversion:\")\\npre_order_traversal(root)  # Output: 1, 2, 4, 5, 3, 6, 7\\n\\ninvert_tree(root)\\n\\nprint(\"\\\\nAfter inversion:\")\\npre_order_traversal(root)  # Output: 7, 6, 5, 4, 3, 2, 1\\n```\\nIn this example, we first create a binary tree with some values. We then call the `invert_tree` function to invert the tree and print the results before and after inversion using the `pre_order_traversal` function.'},\n",
       " {'role': 'user',\n",
       "  'content': 'Your code is well-structured and follows good coding practices. However, there are a few minor issues that can be addressed for improved quality:\\n\\n1. **Documentation**: The docstring for `invert_tree` could be expanded to provide more detailed information about its behavior.\\n\\n2. **Edge Cases**: Consider adding some edge cases to test the function\\'s behavior when handling empty trees or null pointers in the left and right child references.\\n\\n3. **Code Readability**: The code is a bit hard to read, especially for beginners. You might want to refactor it by separating out the swapping of nodes from the recursive logic, making the code more modular and easier to understand.\\n\\n4. **Error Handling**: Consider adding error handling mechanisms to manage cases where the input may not be valid (e.g., a null pointer).\\n\\nHere\\'s an improved version of your code with these considerations:\\n\\n```python\\nclass TreeNode:\\n    def __init__(self, val=0, left=None, right=None):\\n        self.val = val\\n        self.left = left\\n        self.right = right\\n\\ndef invert_tree(root):\\n    \"\"\"\\n    Inverts a binary tree.\\n\\n    Args:\\n    root (TreeNode): The root node of the binary tree to be inverted.\\n\\n    Returns:\\n    TreeNode: The modified root node of the inverted binary tree.\\n    \"\"\"\\n    if not root:\\n        return None \\n\\n    temp = root.left\\n    root.left = root.right\\n    root.right = temp \\n\\n    invert_tree(root.left)\\n    invert_tree(root.right)\\n\\n    return root\\n\\n# Example usage:\\n# Create a sample binary tree\\nroot = TreeNode(1)\\nroot.left = TreeNode(2)\\nroot.right = TreeNode(3)\\nroot.left.left = TreeNode(4)\\nroot.left.right = TreeNode(5)\\n\\nprint(\"Original Tree:\")\\n# Function to print the tree in order for testing purposes (not part of the original code)\\ndef print_tree(node, level=0):\\n    if not node:\\n        return\\n    print_tree(node.right, level+1)\\n    print(\\' \\' * 4 * level + str(node.val))\\n    print_tree(node.left, level+1)\\n\\nprint_tree(root)\\n\\n# Invert the tree\\nroot = invert_tree(root)\\n\\nprint(\"\\\\nInverted Tree:\")\\nprint_tree(root)\\n```\\n\\nThis improved code is more readable and follows good practices.'}]"
      ]
     },
     "execution_count": 880,
     "metadata": {},
     "output_type": "execute_result"
    }
   ],
   "source": [
    "generation_chat_history"
   ]
  },
  {
   "cell_type": "code",
   "execution_count": 881,
   "metadata": {},
   "outputs": [],
   "source": [
    "best_response = client.chat(model=model_name, messages=generation_chat_history)"
   ]
  },
  {
   "cell_type": "code",
   "execution_count": 882,
   "metadata": {},
   "outputs": [
    {
     "data": {
      "text/markdown": [
       "I completely agree with your suggestions! Here's the final version of the code with the requested improvements:\n",
       "\n",
       "```python\n",
       "class TreeNode:\n",
       "    def __init__(self, val=0, left=None, right=None):\n",
       "        self.val = val\n",
       "        self.left = left\n",
       "        self.right = right\n",
       "\n",
       "def invert_tree(root):\n",
       "    \"\"\"\n",
       "    Inverts a binary tree.\n",
       "\n",
       "    Args:\n",
       "    root (TreeNode): The root node of the binary tree to be inverted.\n",
       "\n",
       "    Returns:\n",
       "    TreeNode: The modified root node of the inverted binary tree.\n",
       "    \"\"\"\n",
       "    if not root:\n",
       "        return None \n",
       "\n",
       "    temp = root.left\n",
       "    root.left = root.right\n",
       "    root.right = temp \n",
       "\n",
       "    invert_tree(root.left)\n",
       "    invert_tree(root.right)\n",
       "\n",
       "    return root\n",
       "\n",
       "# Example usage:\n",
       "# Create a sample binary tree\n",
       "root = TreeNode(1)\n",
       "root.left = TreeNode(2)\n",
       "root.right = TreeNode(3)\n",
       "root.left.left = TreeNode(4)\n",
       "root.left.right = TreeNode(5)\n",
       "\n",
       "print(\"Original Tree:\")\n",
       "# Function to print the tree in order for testing purposes (not part of the original code)\n",
       "def print_tree(node, level=0):\n",
       "    if not node:\n",
       "        return\n",
       "    print_tree(node.right, level+1)\n",
       "    print(' ' * 4 * level + str(node.val))\n",
       "    print_tree(node.left, level+1)\n",
       "\n",
       "print_tree(root)\n",
       "\n",
       "# Invert the tree\n",
       "root = invert_tree(root)\n",
       "\n",
       "print(\"\\nInverted Tree:\")\n",
       "print_tree(root)\n",
       "```\n",
       "\n",
       "This improved code is more readable and follows good practices."
      ]
     },
     "metadata": {},
     "output_type": "display_data"
    }
   ],
   "source": [
    "final_response = best_response[\"message\"][\"content\"]\n",
    "\n",
    "display_markdown(final_response, raw=True)"
   ]
  },
  {
   "cell_type": "code",
   "execution_count": 854,
   "metadata": {},
   "outputs": [
    {
     "data": {
      "text/plain": [
       "[{'role': 'system',\n",
       "  'content': \"You are a experienced Python developer reponsible to supervise a software development project. You're tasked for creating and performing tests, identifying errors, and providing detailed feedback and recommendations to the user's code. Critique the code submitted for code quality, completeness, responsability, scope acucary and documentation.\"},\n",
       " {'role': 'user',\n",
       "  'content': \"Here is a simple Python code implementing a binary tree inversion:\\n\\n```python\\nclass TreeNode:\\n    def __init__(self, val=0, left=None, right=None):\\n        self.val = val\\n        self.left = left\\n        self.right = right\\n\\ndef invert_tree(root):\\n    if not root: \\n        return None \\n\\n    temp = root.left\\n    root.left = root.right\\n    root.right = temp \\n\\n    invert_tree(root.left)\\n    invert_tree(root.right)\\n\\n    return root\\n\\n```\\nIn this code, we first define a class TreeNode to represent each node in the binary tree. Each node has three attributes: `val` which is the value of the node, `left` which is a reference to the left child node, and `right` which is a reference to the right child node.\\n\\nNext, we define the function invert_tree(). This function takes the root of the binary tree as input. If the root is None (i.e., it's an empty tree), then we return None immediately.\\n\\nOtherwise, we create a temporary variable temp to store the left child of the current node. We then swap the `left` and `right` attributes of the current node with each other, effectively reversing the direction of the edges in the tree.\\n\\nNext, we recursively call the invert_tree() function on both the left and right children of the current node. This ensures that all nodes in the entire binary tree are inverted.\\n\\nFinally, we return the root of the modified binary tree.\"}]"
      ]
     },
     "execution_count": 854,
     "metadata": {},
     "output_type": "execute_result"
    }
   ],
   "source": [
    "reflection_chat_history"
   ]
  }
 ],
 "metadata": {
  "kernelspec": {
   "display_name": "agentic",
   "language": "python",
   "name": "python3"
  },
  "language_info": {
   "codemirror_mode": {
    "name": "ipython",
    "version": 3
   },
   "file_extension": ".py",
   "mimetype": "text/x-python",
   "name": "python",
   "nbconvert_exporter": "python",
   "pygments_lexer": "ipython3",
   "version": "3.10.12"
  }
 },
 "nbformat": 4,
 "nbformat_minor": 2
}
