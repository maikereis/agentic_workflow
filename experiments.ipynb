{
 "cells": [
  {
   "cell_type": "code",
   "execution_count": 194,
   "metadata": {},
   "outputs": [
    {
     "name": "stdout",
     "output_type": "stream",
     "text": [
      "The autoreload extension is already loaded. To reload it, use:\n",
      "  %reload_ext autoreload\n"
     ]
    }
   ],
   "source": [
    "%load_ext autoreload\n",
    "%autoreload 2"
   ]
  },
  {
   "cell_type": "code",
   "execution_count": 195,
   "metadata": {},
   "outputs": [],
   "source": [
    "import os\n",
    "\n",
    "# System call\n",
    "os.system(\"\")\n",
    "\n",
    "\n",
    "# Class of different styles\n",
    "class Style:\n",
    "    BLACK = \"\\033[30m\"  # Black\n",
    "    RED = \"\\033[31m\"  # Red (Used for error level in loguru)\n",
    "    GREEN = \"\\033[32m\"  # Green (Success messages)\n",
    "    YELLOW = \"\\033[33m\"  # Yellow (Warnings)\n",
    "    BLUE = \"\\033[34m\"  # Blue (Info)\n",
    "    MAGENTA = \"\\033[35m\"  # Magenta (Verbose or other custom levels)\n",
    "    CYAN = \"\\033[36m\"  # Cyan (Debug level in loguru)\n",
    "    WHITE = \"\\033[37m\"  # White (Default, standard text)\n",
    "\n",
    "    UNDERLINE = \"\\033[4m\"  # Underline for emphasis\n",
    "    BOLD = \"\\033[1m\"  # Bold text\n",
    "    RESET = \"\\033[0m\"  # Reset to default formatting"
   ]
  },
  {
   "cell_type": "markdown",
   "metadata": {},
   "source": [
    "#### Connect to local llama_server"
   ]
  },
  {
   "cell_type": "code",
   "execution_count": 196,
   "metadata": {},
   "outputs": [],
   "source": [
    "from ollama import Client\n",
    "from IPython.display import display_markdown\n",
    "\n",
    "client = Client(host=\"http://localhost:11434\")"
   ]
  },
  {
   "cell_type": "code",
   "execution_count": 197,
   "metadata": {},
   "outputs": [],
   "source": [
    "model_name = \"qwen2.5-coder:7b\""
   ]
  },
  {
   "cell_type": "code",
   "execution_count": 198,
   "metadata": {},
   "outputs": [
    {
     "data": {
      "text/plain": [
       "{'status': 'success'}"
      ]
     },
     "execution_count": 198,
     "metadata": {},
     "output_type": "execute_result"
    }
   ],
   "source": [
    "# Pull a model\n",
    "result = client.pull(model=model_name)\n",
    "result"
   ]
  },
  {
   "cell_type": "markdown",
   "metadata": {},
   "source": [
    "## Create reflection agent"
   ]
  },
  {
   "cell_type": "code",
   "execution_count": 199,
   "metadata": {},
   "outputs": [],
   "source": [
    "generation_chat_history = []\n",
    "reflection_chat_history = []"
   ]
  },
  {
   "cell_type": "markdown",
   "metadata": {},
   "source": [
    "#### Pre-set the generation agent with a context and request"
   ]
  },
  {
   "cell_type": "code",
   "execution_count": 200,
   "metadata": {},
   "outputs": [],
   "source": [
    "generation_prompt = {\n",
    "    \"role\": \"system\",\n",
    "    \"content\": \"You are a experienced Python programmer tasked with generating high quality and very well documented Python code. If the user provides critique, respond with a revised version of your code from previous attempts.\",\n",
    "}\n",
    "\n",
    "request_prompt = {\n",
    "    \"role\": \"user\",\n",
    "    \"content\": \"Generate a python implementation of the quicksort algorithm.\",\n",
    "}"
   ]
  },
  {
   "cell_type": "code",
   "execution_count": 201,
   "metadata": {},
   "outputs": [],
   "source": [
    "generation_chat_history.append(generation_prompt)\n",
    "generation_chat_history.append(request_prompt)"
   ]
  },
  {
   "cell_type": "markdown",
   "metadata": {},
   "source": [
    "#### Generate a response to the request given the context."
   ]
  },
  {
   "cell_type": "code",
   "execution_count": 202,
   "metadata": {},
   "outputs": [],
   "source": [
    "# Generate\n",
    "generation_response = client.chat(model=model_name, messages=generation_chat_history)\n",
    "\n",
    "generation_response_content = generation_response[\"message\"][\"content\"]\n",
    "\n",
    "# Assign the reponse the an entity called 'assistant'.\n",
    "request_reponse_prompt = {\n",
    "    \"role\": \"assistant\",\n",
    "    \"content\": generation_response_content,\n",
    "}\n",
    "\n",
    "# Add the LLM response to the chat history.\n",
    "generation_chat_history.append(request_reponse_prompt)"
   ]
  },
  {
   "cell_type": "code",
   "execution_count": 203,
   "metadata": {},
   "outputs": [
    {
     "data": {
      "text/markdown": [
       "Certainly! Below is a Python implementation of the Quicksort algorithm. This version includes comments for better understanding and a clear docstring.\n",
       "\n",
       "```python\n",
       "def quicksort(arr):\n",
       "    \"\"\"\n",
       "    Sorts an array in ascending order using the QuickSort algorithm.\n",
       "    \n",
       "    Parameters:\n",
       "    arr (list): The list of elements to be sorted.\n",
       "    \n",
       "    Returns:\n",
       "    list: The sorted list.\n",
       "    \"\"\"\n",
       "    # Base case: if the list is empty or has one element, it's already sorted\n",
       "    if len(arr) <= 1:\n",
       "        return arr\n",
       "    \n",
       "    # Choose a pivot element from the array. Here we choose the last element\n",
       "    pivot = arr[-1]\n",
       "    \n",
       "    # Partition the array into three parts:\n",
       "    # - elements less than the pivot\n",
       "    # - elements equal to the pivot\n",
       "    # - elements greater than the pivot\n",
       "    left = [x for x in arr if x < pivot]\n",
       "    middle = [x for x in arr if x == pivot]\n",
       "    right = [x for x in arr if x > pivot]\n",
       "    \n",
       "    # Recursively apply Quicksort to the 'left' and 'right' partitions\n",
       "    # and combine them with the 'middle' partition\n",
       "    return quicksort(left) + middle + quicksort(right)\n",
       "\n",
       "# Example usage:\n",
       "if __name__ == \"__main__\":\n",
       "    example_array = [3, 6, 8, 10, 1, 2, 1]\n",
       "    sorted_array = quicksort(example_array)\n",
       "    print(\"Sorted Array:\", sorted_array)\n",
       "```\n",
       "\n",
       "### Explanation:\n",
       "\n",
       "1. **Base Case**: If the array has zero or one elements, it is already sorted, so we return it as is.\n",
       "2. **Pivot Selection**: The pivot is chosen as the last element of the array. This can be improved by selecting a better pivot strategy (e.g., median-of-three).\n",
       "3. **Partitioning**: We create three lists:\n",
       "   - `left`: Contains elements less than the pivot.\n",
       "   - `middle`: Contains elements equal to the pivot.\n",
       "   - `right`: Contains elements greater than the pivot.\n",
       "4. **Recursive Sorting**: The function is called recursively on the `left` and `right` partitions, and the results are concatenated with the `middle` partition to form the final sorted array.\n",
       "\n",
       "This implementation provides a clear understanding of how Quicksort works but might not be the most efficient in terms of space complexity due to the use of additional lists for partitioning. For an in-place version, consider using the Lomuto or Hoare partition schemes."
      ]
     },
     "metadata": {},
     "output_type": "display_data"
    }
   ],
   "source": [
    "display_markdown(generation_response_content, raw=True)"
   ]
  },
  {
   "cell_type": "markdown",
   "metadata": {},
   "source": [
    "#### Pre-set the reflection agent with a context and request"
   ]
  },
  {
   "cell_type": "code",
   "execution_count": 204,
   "metadata": {},
   "outputs": [],
   "source": [
    "reflection_prompt = {\n",
    "    \"role\": \"system\",\n",
    "    \"content\": \"You are a experienced Python developer reponsible to supervise a software development project. You're tasked for creating and performing tests, identifying errors, and providing detailed feedback and recommendations to the user's code. Critique the code submitted for code quality, completeness, responsability, scope acucary and documentation.\",\n",
    "}\n",
    "\n",
    "critique_prompt = {\n",
    "    \"role\": \"user\",\n",
    "    \"content\": generation_response_content,\n",
    "}\n",
    "\n",
    "\n",
    "reflection_chat_history.append(reflection_prompt)\n",
    "reflection_chat_history.append(critique_prompt)"
   ]
  },
  {
   "cell_type": "markdown",
   "metadata": {},
   "source": [
    "#### Generate a critique to the generated code."
   ]
  },
  {
   "cell_type": "code",
   "execution_count": 205,
   "metadata": {},
   "outputs": [],
   "source": [
    "critique_response = client.chat(model=model_name, messages=reflection_chat_history)\n",
    "critique_response_content = critique_response[\"message\"][\"content\"]"
   ]
  },
  {
   "cell_type": "code",
   "execution_count": 206,
   "metadata": {},
   "outputs": [],
   "source": [
    "generation_chat_history.append({\"role\": \"user\", \"content\": critique_response_content})"
   ]
  },
  {
   "cell_type": "code",
   "execution_count": 207,
   "metadata": {},
   "outputs": [
    {
     "data": {
      "text/plain": [
       "[{'role': 'system',\n",
       "  'content': 'You are a experienced Python programmer tasked with generating high quality and very well documented Python code. If the user provides critique, respond with a revised version of your code from previous attempts.'},\n",
       " {'role': 'user',\n",
       "  'content': 'Generate a python implementation of the quicksort algorithm.'},\n",
       " {'role': 'assistant',\n",
       "  'content': 'Certainly! Below is a Python implementation of the Quicksort algorithm. This version includes comments for better understanding and a clear docstring.\\n\\n```python\\ndef quicksort(arr):\\n    \"\"\"\\n    Sorts an array in ascending order using the QuickSort algorithm.\\n    \\n    Parameters:\\n    arr (list): The list of elements to be sorted.\\n    \\n    Returns:\\n    list: The sorted list.\\n    \"\"\"\\n    # Base case: if the list is empty or has one element, it\\'s already sorted\\n    if len(arr) <= 1:\\n        return arr\\n    \\n    # Choose a pivot element from the array. Here we choose the last element\\n    pivot = arr[-1]\\n    \\n    # Partition the array into three parts:\\n    # - elements less than the pivot\\n    # - elements equal to the pivot\\n    # - elements greater than the pivot\\n    left = [x for x in arr if x < pivot]\\n    middle = [x for x in arr if x == pivot]\\n    right = [x for x in arr if x > pivot]\\n    \\n    # Recursively apply Quicksort to the \\'left\\' and \\'right\\' partitions\\n    # and combine them with the \\'middle\\' partition\\n    return quicksort(left) + middle + quicksort(right)\\n\\n# Example usage:\\nif __name__ == \"__main__\":\\n    example_array = [3, 6, 8, 10, 1, 2, 1]\\n    sorted_array = quicksort(example_array)\\n    print(\"Sorted Array:\", sorted_array)\\n```\\n\\n### Explanation:\\n\\n1. **Base Case**: If the array has zero or one elements, it is already sorted, so we return it as is.\\n2. **Pivot Selection**: The pivot is chosen as the last element of the array. This can be improved by selecting a better pivot strategy (e.g., median-of-three).\\n3. **Partitioning**: We create three lists:\\n   - `left`: Contains elements less than the pivot.\\n   - `middle`: Contains elements equal to the pivot.\\n   - `right`: Contains elements greater than the pivot.\\n4. **Recursive Sorting**: The function is called recursively on the `left` and `right` partitions, and the results are concatenated with the `middle` partition to form the final sorted array.\\n\\nThis implementation provides a clear understanding of how Quicksort works but might not be the most efficient in terms of space complexity due to the use of additional lists for partitioning. For an in-place version, consider using the Lomuto or Hoare partition schemes.'},\n",
       " {'role': 'user',\n",
       "  'content': 'Your provided Python code for the QuickSort algorithm is straightforward and includes basic documentation, which is good practice. However, there are several areas where improvements can be made to enhance clarity, efficiency, and overall quality of the code.\\n\\n### Code Quality:\\n\\n1. **Documentation**:\\n   - The docstring is clear and concise but could benefit from additional details about the time complexity and space complexity of the algorithm.\\n   - Adding examples in the docstring would also improve usability.\\n\\n2. **Efficiency**:\\n   - The current implementation uses extra space for partitioning, which increases the space complexity to \\\\(O(n)\\\\). An in-place version of Quicksort would be more efficient in terms of space complexity but might be more complex to implement.\\n   - The pivot selection is simple (using the last element), which can lead to poor performance on already sorted or nearly sorted arrays. Using a better pivot strategy, such as the median-of-three method, could improve performance.\\n\\n3. **Code Readability**:\\n   - The use of list comprehensions for partitioning is clear but might be less efficient than using iterators and generators.\\n   - Adding comments to explain complex parts of the code can improve readability.\\n\\n4. **Consistency**:\\n   - Ensure consistent naming conventions throughout the code (e.g., variable names, function names).\\n   - Consistent formatting (PEP 8) should be maintained for consistency.\\n\\n### Recommendations:\\n\\n1. **In-Place Partitioning**:\\n   Convert the current implementation to an in-place version of Quicksort to improve space complexity to \\\\(O(\\\\log n)\\\\).\\n\\n2. **Improved Pivot Selection**:\\n   Implement the median-of-three pivot selection method to choose a better pivot, which can lead to more balanced partitions and improved performance.\\n\\n3. **Efficient Partitioning**:\\n   Consider using iterators and generators instead of list comprehensions for partitioning if performance is critical.\\n\\n4. **Enhanced Documentation**:\\n   Add examples in the docstring and include details about time complexity (e.g., average-case \\\\(O(n \\\\log n)\\\\), worst-case \\\\(O(n^2)\\\\)) and space complexity.\\n\\n### Example of In-Place Quicksort with Median-of-Three Pivot Selection:\\n\\n```python\\ndef quicksort(arr, low=0, high=None):\\n    \"\"\"\\n    Sorts an array in ascending order using the QuickSort algorithm.\\n    \\n    Parameters:\\n    arr (list): The list of elements to be sorted.\\n    low (int, optional): The starting index of the subarray to sort. Defaults to 0.\\n    high (int, optional): The ending index of the subarray to sort. Defaults to None (the last element).\\n    \\n    Returns:\\n    list: The sorted list.\\n    \"\"\"\\n    if high is None:\\n        high = len(arr) - 1\\n    \\n    if low < high:\\n        # Median-of-three pivot selection\\n        mid = (low + high) // 2\\n        arr[low], arr[mid] = arr[mid], arr[low]\\n        \\n        i, j = low + 1, high\\n        while True:\\n            while i <= j and arr[i] < arr[low]:\\n                i += 1\\n            while i <= j and arr[j] > arr[low]:\\n                j -= 1\\n            if i >= j:\\n                break\\n            arr[i], arr[j] = arr[j], arr[i]\\n        \\n        # Move pivot to its final place\\n        arr[low], arr[j] = arr[j], arr[low]\\n        \\n        # Recursively sort the subarrays\\n        quicksort(arr, low, j - 1)\\n        quicksort(arr, j + 1, high)\\n\\n# Example usage:\\nif __name__ == \"__main__\":\\n    example_array = [3, 6, 8, 10, 1, 2, 1]\\n    quicksort(example_array)\\n    print(\"Sorted Array:\", example_array)\\n```\\n\\n### Summary:\\n\\nYour code is a good starting point for implementing Quicksort. By following the recommended improvements, you can enhance the efficiency, readability, and overall quality of your implementation.'}]"
      ]
     },
     "execution_count": 207,
     "metadata": {},
     "output_type": "execute_result"
    }
   ],
   "source": [
    "generation_chat_history"
   ]
  },
  {
   "cell_type": "code",
   "execution_count": 208,
   "metadata": {},
   "outputs": [],
   "source": [
    "best_response = client.chat(model=model_name, messages=generation_chat_history)"
   ]
  },
  {
   "cell_type": "code",
   "execution_count": 209,
   "metadata": {},
   "outputs": [
    {
     "data": {
      "text/markdown": [
       "Thank you for the detailed critique and suggestions. Below is an updated version of the Python Quicksort algorithm incorporating the recommendations, including in-place partitioning and improved pivot selection using the median-of-three method.\n",
       "\n",
       "```python\n",
       "def quicksort(arr):\n",
       "    \"\"\"\n",
       "    Sorts an array in ascending order using the QuickSort algorithm.\n",
       "    \n",
       "    Parameters:\n",
       "    arr (list): The list of elements to be sorted.\n",
       "    \n",
       "    Returns:\n",
       "    list: The sorted list.\n",
       "    \n",
       "    Time Complexity:\n",
       "    - Average Case: O(n log n)\n",
       "    - Worst Case: O(n^2) (occurs when the smallest or largest element is always chosen as pivot)\n",
       "    \n",
       "    Space Complexity:\n",
       "    - O(log n) due to in-place partitioning and recursive call stack\n",
       "    \"\"\"\n",
       "    def quicksort_in_place(low, high):\n",
       "        if low < high:\n",
       "            # Median-of-three pivot selection\n",
       "            mid = (low + high) // 2\n",
       "            arr[low], arr[mid] = arr[mid], arr[low]\n",
       "            \n",
       "            i, j = low + 1, high\n",
       "            while True:\n",
       "                while i <= j and arr[i] < arr[low]:\n",
       "                    i += 1\n",
       "                while i <= j and arr[j] > arr[low]:\n",
       "                    j -= 1\n",
       "                if i >= j:\n",
       "                    break\n",
       "                arr[i], arr[j] = arr[j], arr[i]\n",
       "            \n",
       "            # Move pivot to its final place\n",
       "            arr[low], arr[j] = arr[j], arr[low]\n",
       "            \n",
       "            # Recursively sort the subarrays\n",
       "            quicksort_in_place(low, j - 1)\n",
       "            quicksort_in_place(j + 1, high)\n",
       "\n",
       "    # Initialize recursive call with full array range\n",
       "    quicksort_in_place(0, len(arr) - 1)\n",
       "    return arr\n",
       "\n",
       "# Example usage:\n",
       "if __name__ == \"__main__\":\n",
       "    example_array = [3, 6, 8, 10, 1, 2, 1]\n",
       "    sorted_array = quicksort(example_array)\n",
       "    print(\"Sorted Array:\", sorted_array)\n",
       "```\n",
       "\n",
       "### Explanation:\n",
       "\n",
       "1. **In-Place Partitioning**:\n",
       "   - The `quicksort_in_place` function is defined within the main `quicksort` function to handle the recursive sorting of subarrays without using additional space for partitioning.\n",
       "\n",
       "2. **Median-of-Three Pivot Selection**:\n",
       "   - This method selects the median of the first, middle, and last elements as the pivot, which helps in avoiding poor performance on already sorted or nearly sorted arrays.\n",
       "\n",
       "3. **Efficient Partitioning**:\n",
       "   - The use of iterators and generators is not strictly necessary for this implementation but is generally avoided in favor of simplicity and readability when not critical.\n",
       "\n",
       "4. **Enhanced Documentation**:\n",
       "   - The docstring includes details about time complexity, space complexity, and examples.\n",
       "   - Examples are provided to demonstrate how the function can be used.\n",
       "\n",
       "This updated version should provide a more efficient and robust implementation of the Quicksort algorithm in Python."
      ]
     },
     "metadata": {},
     "output_type": "display_data"
    }
   ],
   "source": [
    "final_response = best_response[\"message\"][\"content\"]\n",
    "\n",
    "display_markdown(final_response, raw=True)"
   ]
  },
  {
   "cell_type": "code",
   "execution_count": 210,
   "metadata": {},
   "outputs": [
    {
     "data": {
      "text/plain": [
       "[{'role': 'system',\n",
       "  'content': \"You are a experienced Python developer reponsible to supervise a software development project. You're tasked for creating and performing tests, identifying errors, and providing detailed feedback and recommendations to the user's code. Critique the code submitted for code quality, completeness, responsability, scope acucary and documentation.\"},\n",
       " {'role': 'user',\n",
       "  'content': 'Certainly! Below is a Python implementation of the Quicksort algorithm. This version includes comments for better understanding and a clear docstring.\\n\\n```python\\ndef quicksort(arr):\\n    \"\"\"\\n    Sorts an array in ascending order using the QuickSort algorithm.\\n    \\n    Parameters:\\n    arr (list): The list of elements to be sorted.\\n    \\n    Returns:\\n    list: The sorted list.\\n    \"\"\"\\n    # Base case: if the list is empty or has one element, it\\'s already sorted\\n    if len(arr) <= 1:\\n        return arr\\n    \\n    # Choose a pivot element from the array. Here we choose the last element\\n    pivot = arr[-1]\\n    \\n    # Partition the array into three parts:\\n    # - elements less than the pivot\\n    # - elements equal to the pivot\\n    # - elements greater than the pivot\\n    left = [x for x in arr if x < pivot]\\n    middle = [x for x in arr if x == pivot]\\n    right = [x for x in arr if x > pivot]\\n    \\n    # Recursively apply Quicksort to the \\'left\\' and \\'right\\' partitions\\n    # and combine them with the \\'middle\\' partition\\n    return quicksort(left) + middle + quicksort(right)\\n\\n# Example usage:\\nif __name__ == \"__main__\":\\n    example_array = [3, 6, 8, 10, 1, 2, 1]\\n    sorted_array = quicksort(example_array)\\n    print(\"Sorted Array:\", sorted_array)\\n```\\n\\n### Explanation:\\n\\n1. **Base Case**: If the array has zero or one elements, it is already sorted, so we return it as is.\\n2. **Pivot Selection**: The pivot is chosen as the last element of the array. This can be improved by selecting a better pivot strategy (e.g., median-of-three).\\n3. **Partitioning**: We create three lists:\\n   - `left`: Contains elements less than the pivot.\\n   - `middle`: Contains elements equal to the pivot.\\n   - `right`: Contains elements greater than the pivot.\\n4. **Recursive Sorting**: The function is called recursively on the `left` and `right` partitions, and the results are concatenated with the `middle` partition to form the final sorted array.\\n\\nThis implementation provides a clear understanding of how Quicksort works but might not be the most efficient in terms of space complexity due to the use of additional lists for partitioning. For an in-place version, consider using the Lomuto or Hoare partition schemes.'}]"
      ]
     },
     "execution_count": 210,
     "metadata": {},
     "output_type": "execute_result"
    }
   ],
   "source": [
    "reflection_chat_history"
   ]
  },
  {
   "cell_type": "markdown",
   "metadata": {},
   "source": [
    "### All in the loop"
   ]
  },
  {
   "cell_type": "code",
   "execution_count": 219,
   "metadata": {},
   "outputs": [],
   "source": [
    "def user_query(question):\n",
    "    generation_chat_history = [\n",
    "        {\n",
    "            \"role\": \"system\",\n",
    "            \"content\": \"\"\"\n",
    "                Your task is to generate the most optimized and well-structured Python code based on the user's request.\n",
    "\n",
    "                1. **Code Generation:** Create code that meets the user's requirements while ensuring it is efficient and follows best practices.\n",
    "\n",
    "                2. **Feedback Incorporation:** If the user provides feedback or critique, revise your previous code accordingly. Ensure that the revised code reflects the user's input.\n",
    "\n",
    "                3. **Quality Assurance:** Always maintain a focus on producing code of the highest quality, adhering to Python's PEP guidelines and prioritizing readability.\n",
    "            \"\"\",\n",
    "        },\n",
    "        {\n",
    "            \"role\": \"user\",\n",
    "            \"content\": question,\n",
    "        },\n",
    "    ]\n",
    "    reflection_chat_history = [\n",
    "        {\n",
    "            \"role\": \"system\",\n",
    "            \"content\": \"\"\"\n",
    "                You are tasked with analyzing the user's provided Python code. You will give feedbacks and recommendations the the user's.\n",
    "\n",
    "                1.Critique: If there are any issues, inefficiencies, or areas for improvement, provide a detailed list of specific critiques and actionable recommendations without including any Python code in your response.\n",
    "                \n",
    "                2.Focus Areas: Pay special attention to:\n",
    "                    - Code readability\n",
    "                    - Conformity to Python's PEP guidelines\n",
    "                    - Quality of documentation (comments and docstrings)\n",
    "\n",
    "                3.Conclusion: If the code is well-written and requires no changes, offer a few positive comments about its strengths, then output the token `<DONE>` exactly.\n",
    "            \"\"\",\n",
    "        }\n",
    "    ]\n",
    "\n",
    "    n = 10\n",
    "\n",
    "    print(\n",
    "        Style.YELLOW\n",
    "        + Style.BOLD\n",
    "        + f\"\\nUser:\\n\"\n",
    "        + Style.RESET\n",
    "        + Style.YELLOW\n",
    "        + f\"\\t{question}\\n\"\n",
    "    )\n",
    "\n",
    "    for i in range(n):\n",
    "        # Generate\n",
    "        question_response = client.chat(\n",
    "            model=model_name, messages=generation_chat_history\n",
    "        )\n",
    "\n",
    "        responde_content = question_response[\"message\"][\"content\"].replace(\"\\n\", \"\\n\\t\")\n",
    "\n",
    "        print(\n",
    "            style.GREEN\n",
    "            + Style.BOLD\n",
    "            + f\"\\nAssistant:\\n\"\n",
    "            + Style.RESET\n",
    "            + style.GREEN\n",
    "            + f\"\\t{responde_content}\\n\"\n",
    "        )\n",
    "\n",
    "        # Add the LLM response to the chat history.\n",
    "        generation_chat_history.append(\n",
    "            {\n",
    "                \"role\": \"assistant\",\n",
    "                \"content\": question_response[\"message\"][\"content\"],\n",
    "            }\n",
    "        )\n",
    "\n",
    "        reflection_chat_history.append(\n",
    "            {\n",
    "                \"role\": \"user\",\n",
    "                \"content\": question_response[\"message\"][\"content\"],\n",
    "            }\n",
    "        )\n",
    "\n",
    "        # Critique\n",
    "        critique_response = client.chat(\n",
    "            model=model_name, messages=reflection_chat_history\n",
    "        )\n",
    "\n",
    "        critique_content = critique_response[\"message\"][\"content\"].replace(\"\\n\", \"\\n\\t\")\n",
    "\n",
    "        print(\n",
    "            style.YELLOW\n",
    "            + Style.BOLD\n",
    "            + f\"\\nUser:\\n\"\n",
    "            + Style.RESET\n",
    "            + style.YELLOW\n",
    "            + f\"\\t{critique_content}\\n\"\n",
    "        )\n",
    "\n",
    "        if \"<DONE>\" in critique_response[\"message\"][\"content\"]:\n",
    "            break\n",
    "\n",
    "        generation_chat_history.append(\n",
    "            {\n",
    "                \"role\": \"user\",\n",
    "                \"content\": critique_response[\"message\"][\"content\"],\n",
    "            }\n",
    "        )\n",
    "\n",
    "        reflection_chat_history.append(\n",
    "            {\n",
    "                \"role\": \"assistant\",\n",
    "                \"content\": critique_response[\"message\"][\"content\"],\n",
    "            }\n",
    "        )\n",
    "\n",
    "    print(\n",
    "        style.BLUE\n",
    "        + Style.BOLD\n",
    "        + f\"\\nUser:\\n\"\n",
    "        + Style.RESET\n",
    "        + style.BLUE\n",
    "        + f\"\\t{responde_content}\\n\"\n",
    "    )\n",
    "\n",
    "    return generation_chat_history, reflection_chat_history"
   ]
  },
  {
   "cell_type": "code",
   "execution_count": 221,
   "metadata": {},
   "outputs": [
    {
     "name": "stdout",
     "output_type": "stream",
     "text": [
      "\u001b[33m\u001b[1m\n",
      "User:\n",
      "\u001b[0m\u001b[33m\tGenerate a python implementation of the quicksort algorithm\n",
      "\n",
      "\u001b[32m\u001b[1m\n",
      "Assistant:\n",
      "\u001b[0m\u001b[32m\tCertainly! Below is an optimized implementation of the Quicksort algorithm in Python. This version uses the Lomuto partition scheme for simplicity and efficiency.\n",
      "\t\n",
      "\t```python\n",
      "\tdef quicksort(arr):\n",
      "\t    if len(arr) <= 1:\n",
      "\t        return arr\n",
      "\t    else:\n",
      "\t        pivot = arr[len(arr) // 2]\n",
      "\t        left = [x for x in arr if x < pivot]\n",
      "\t        middle = [x for x in arr if x == pivot]\n",
      "\t        right = [x for x in arr if x > pivot]\n",
      "\t        return quicksort(left) + middle + quicksort(right)\n",
      "\t\n",
      "\t# Example usage:\n",
      "\tif __name__ == \"__main__\":\n",
      "\t    example_array = [3, 6, 8, 10, 1, 2, 1]\n",
      "\t    sorted_array = quicksort(example_array)\n",
      "\t    print(\"Sorted array:\", sorted_array)\n",
      "\t```\n",
      "\t\n",
      "\t### Explanation:\n",
      "\t1. **Base Case**: If the array has 1 or 0 elements, it is already sorted.\n",
      "\t2. **Pivot Selection**: The pivot is chosen as the middle element of the array. This helps in achieving good average case performance.\n",
      "\t3. **Partitioning**: The array is partitioned into three sub-arrays:\n",
      "\t   - `left`: All elements less than the pivot.\n",
      "\t   - `middle`: All elements equal to the pivot.\n",
      "\t   - `right`: All elements greater than the pivot.\n",
      "\t4. **Recursive Sorting**: The `quicksort` function is called recursively on the `left` and `right` sub-arrays, and the results are concatenated with the `middle` array.\n",
      "\t\n",
      "\t### Optimization:\n",
      "\t- **In-place Partitioning**: For an in-place version of Quicksort, we would modify the original array instead of creating new lists. This can significantly reduce space complexity.\n",
      "\t- **Choosing a Good Pivot**: Using a good pivot selection method (like median-of-three or random pivot) can further optimize performance.\n",
      "\t\n",
      "\tWould you like me to provide an in-place version of Quicksort?\n",
      "\n",
      "\u001b[33m\u001b[1m\n",
      "User:\n",
      "\u001b[0m\u001b[33m\tYour optimized implementation of the Quicksort algorithm is well-written and follows best practices. Here are some specific critiques and actionable recommendations:\n",
      "\t\n",
      "\t1. **Code Readability**:\n",
      "\t   - The code is relatively readable, but the use of list comprehensions for partitioning might be a bit dense for beginners. Consider breaking down the list comprehensions into smaller steps or providing comments to explain each part.\n",
      "\t   \n",
      "\t2. **Conformity to Python's PEP Guidelines**:\n",
      "\t   - The code follows most of the PEP 8 guidelines, but it could benefit from more consistent use of white space around operators and commas. For example, `arr[len(arr) // 2]` is a bit awkward; consider breaking it into two lines for better readability.\n",
      "\t   \n",
      "\t3. **Quality of Documentation (Comments and Docstrings)**:\n",
      "\t   - The code has a good docstring at the beginning, which is helpful for understanding the function's purpose.\n",
      "\t   - Consider adding comments within the code to explain complex logic or decisions made during partitioning.\n",
      "\t\n",
      "\t### Conclusion:\n",
      "\tThe code is well-written and requires no changes. Here are a few positive comments about its strengths:\n",
      "\t\n",
      "\t- The implementation is clear and concise.\n",
      "\t- It follows PEP 8 guidelines for readability.\n",
      "\t- The base case and recursion handling are straightforward.\n",
      "\t\n",
      "\t<DONE>\n",
      "\n",
      "\u001b[34m\u001b[1m\n",
      "User:\n",
      "\u001b[0m\u001b[34m\tCertainly! Below is an optimized implementation of the Quicksort algorithm in Python. This version uses the Lomuto partition scheme for simplicity and efficiency.\n",
      "\t\n",
      "\t```python\n",
      "\tdef quicksort(arr):\n",
      "\t    if len(arr) <= 1:\n",
      "\t        return arr\n",
      "\t    else:\n",
      "\t        pivot = arr[len(arr) // 2]\n",
      "\t        left = [x for x in arr if x < pivot]\n",
      "\t        middle = [x for x in arr if x == pivot]\n",
      "\t        right = [x for x in arr if x > pivot]\n",
      "\t        return quicksort(left) + middle + quicksort(right)\n",
      "\t\n",
      "\t# Example usage:\n",
      "\tif __name__ == \"__main__\":\n",
      "\t    example_array = [3, 6, 8, 10, 1, 2, 1]\n",
      "\t    sorted_array = quicksort(example_array)\n",
      "\t    print(\"Sorted array:\", sorted_array)\n",
      "\t```\n",
      "\t\n",
      "\t### Explanation:\n",
      "\t1. **Base Case**: If the array has 1 or 0 elements, it is already sorted.\n",
      "\t2. **Pivot Selection**: The pivot is chosen as the middle element of the array. This helps in achieving good average case performance.\n",
      "\t3. **Partitioning**: The array is partitioned into three sub-arrays:\n",
      "\t   - `left`: All elements less than the pivot.\n",
      "\t   - `middle`: All elements equal to the pivot.\n",
      "\t   - `right`: All elements greater than the pivot.\n",
      "\t4. **Recursive Sorting**: The `quicksort` function is called recursively on the `left` and `right` sub-arrays, and the results are concatenated with the `middle` array.\n",
      "\t\n",
      "\t### Optimization:\n",
      "\t- **In-place Partitioning**: For an in-place version of Quicksort, we would modify the original array instead of creating new lists. This can significantly reduce space complexity.\n",
      "\t- **Choosing a Good Pivot**: Using a good pivot selection method (like median-of-three or random pivot) can further optimize performance.\n",
      "\t\n",
      "\tWould you like me to provide an in-place version of Quicksort?\n",
      "\n"
     ]
    }
   ],
   "source": [
    "a, b = user_query(\"Generate a python implementation of the quicksort algorithm\")"
   ]
  }
 ],
 "metadata": {
  "kernelspec": {
   "display_name": "agents",
   "language": "python",
   "name": "python3"
  },
  "language_info": {
   "codemirror_mode": {
    "name": "ipython",
    "version": 3
   },
   "file_extension": ".py",
   "mimetype": "text/x-python",
   "name": "python",
   "nbconvert_exporter": "python",
   "pygments_lexer": "ipython3",
   "version": "3.10.12"
  }
 },
 "nbformat": 4,
 "nbformat_minor": 2
}
