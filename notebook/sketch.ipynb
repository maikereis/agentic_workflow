{
 "cells": [
  {
   "cell_type": "code",
   "execution_count": 20,
   "metadata": {},
   "outputs": [
    {
     "name": "stdout",
     "output_type": "stream",
     "text": [
      "The autoreload extension is already loaded. To reload it, use:\n",
      "  %reload_ext autoreload\n"
     ]
    }
   ],
   "source": [
    "%load_ext autoreload\n",
    "%autoreload 2"
   ]
  },
  {
   "cell_type": "code",
   "execution_count": 21,
   "metadata": {},
   "outputs": [],
   "source": [
    "from ollama import Client\n",
    "\n",
    "client = Client(host=\"http://localhost:11434\")\n",
    "model_name = \"qwen2.5:7b\""
   ]
  },
  {
   "cell_type": "code",
   "execution_count": 22,
   "metadata": {},
   "outputs": [],
   "source": [
    "from agentic.tool import ToolAgent\n",
    "from functions import summation, multiplication"
   ]
  },
  {
   "cell_type": "code",
   "execution_count": 23,
   "metadata": {},
   "outputs": [],
   "source": [
    "agent = ToolAgent(\n",
    "    client=client, toolkit=[summation, multiplication], model=\"qwen2.5:7b\"\n",
    ")"
   ]
  },
  {
   "cell_type": "code",
   "execution_count": 24,
   "metadata": {},
   "outputs": [],
   "source": [
    "response = agent.start(\n",
    "    message=\"Can you multiple 25 by 12 and sum 3 with 6 and search what is an LLM on google.com?\"\n",
    ")"
   ]
  },
  {
   "cell_type": "code",
   "execution_count": 25,
   "metadata": {},
   "outputs": [],
   "source": [
    "from agentic.planning import PlanningAgent"
   ]
  },
  {
   "cell_type": "code",
   "execution_count": 26,
   "metadata": {},
   "outputs": [],
   "source": [
    "pagent = PlanningAgent(\n",
    "    client=client, toolkit=[summation, multiplication], model=\"qwen2.5:7b\"\n",
    ")"
   ]
  },
  {
   "cell_type": "code",
   "execution_count": 27,
   "metadata": {},
   "outputs": [],
   "source": [
    "result = pagent.start(\n",
    "    message=\"Can you multiple 25 by 12 and sum the result by 3 and multiply by 12 and then sum by 354?\"\n",
    ")"
   ]
  },
  {
   "cell_type": "code",
   "execution_count": 28,
   "metadata": {},
   "outputs": [
    {
     "name": "stdout",
     "output_type": "stream",
     "text": [
      "The final result of the arithmetic operations is 3990. \n",
      "\n",
      "<response>The final result after performing all the operations is 3990.</response>\n"
     ]
    }
   ],
   "source": [
    "print(result)"
   ]
  },
  {
   "cell_type": "code",
   "execution_count": 31,
   "metadata": {},
   "outputs": [],
   "source": [
    "from tool import Function, Tool, ToolKit\n",
    "from typing import List"
   ]
  },
  {
   "cell_type": "code",
   "execution_count": 32,
   "metadata": {},
   "outputs": [],
   "source": [
    "def sum2(a: float, b: float) -> float:\n",
    "    return a + b\n",
    "\n",
    "\n",
    "def sub(a: float, b: float) -> float:\n",
    "    return a - b\n",
    "\n",
    "\n",
    "def list_mul(a: int, b: List = [1, 2, 3]) -> List:\n",
    "    return a * b"
   ]
  },
  {
   "cell_type": "code",
   "execution_count": 33,
   "metadata": {},
   "outputs": [],
   "source": [
    "sum2_func = Function(sum2)\n",
    "sub_func = Function(sub)"
   ]
  },
  {
   "cell_type": "code",
   "execution_count": 34,
   "metadata": {},
   "outputs": [
    {
     "data": {
      "text/plain": [
       "Function(name=sub, signature=(a: float, b: float) -> float, doc=None)"
      ]
     },
     "execution_count": 34,
     "metadata": {},
     "output_type": "execute_result"
    }
   ],
   "source": [
    "sub_func"
   ]
  },
  {
   "cell_type": "code",
   "execution_count": 35,
   "metadata": {},
   "outputs": [
    {
     "data": {
      "text/plain": [
       "5.0"
      ]
     },
     "execution_count": 35,
     "metadata": {},
     "output_type": "execute_result"
    }
   ],
   "source": [
    "sum2_func.run({\"a\": 2, \"b\": 3})"
   ]
  },
  {
   "cell_type": "code",
   "execution_count": 36,
   "metadata": {},
   "outputs": [
    {
     "data": {
      "text/plain": [
       "-1.0"
      ]
     },
     "execution_count": 36,
     "metadata": {},
     "output_type": "execute_result"
    }
   ],
   "source": [
    "sub_func.run({\"a\": 2, \"b\": 3})"
   ]
  },
  {
   "cell_type": "code",
   "execution_count": 37,
   "metadata": {},
   "outputs": [],
   "source": [
    "sum2_tool = Tool(func=sum2)"
   ]
  },
  {
   "cell_type": "code",
   "execution_count": 38,
   "metadata": {},
   "outputs": [
    {
     "data": {
      "text/plain": [
       "{'name': 'sum2',\n",
       " 'doc': None,\n",
       " 'parameters': {'properties': {'a': {'type': 'float'},\n",
       "   'b': {'type': 'float'}}}}"
      ]
     },
     "execution_count": 38,
     "metadata": {},
     "output_type": "execute_result"
    }
   ],
   "source": [
    "sum2_tool.schema"
   ]
  },
  {
   "cell_type": "code",
   "execution_count": 39,
   "metadata": {},
   "outputs": [
    {
     "data": {
      "text/plain": [
       "5.0"
      ]
     },
     "execution_count": 39,
     "metadata": {},
     "output_type": "execute_result"
    }
   ],
   "source": [
    "sum2_tool.run({\"a\": 2, \"b\": 3})"
   ]
  },
  {
   "cell_type": "code",
   "execution_count": 40,
   "metadata": {},
   "outputs": [],
   "source": [
    "assert sum2_tool.run({\"a\": 2, \"b\": 3}) == sum2_func.run({\"a\": 2, \"b\": 3})"
   ]
  },
  {
   "cell_type": "code",
   "execution_count": 41,
   "metadata": {},
   "outputs": [
    {
     "data": {
      "text/plain": [
       "5.0"
      ]
     },
     "execution_count": 41,
     "metadata": {},
     "output_type": "execute_result"
    }
   ],
   "source": [
    "sum2_tool.run({\"a\": 2, \"b\": 3})"
   ]
  },
  {
   "cell_type": "code",
   "execution_count": 42,
   "metadata": {},
   "outputs": [],
   "source": [
    "tk = ToolKit(tools=[sum2, sub, list_mul])"
   ]
  },
  {
   "cell_type": "code",
   "execution_count": 43,
   "metadata": {},
   "outputs": [
    {
     "data": {
      "text/plain": [
       "[Tool(name=sum2, signature=(a: float, b: float) -> float, doc=None),\n",
       " Tool(name=sub, signature=(a: float, b: float) -> float, doc=None),\n",
       " Tool(name=list_mul, signature=(a: int, b: List = [1, 2, 3]) -> List, doc=None)]"
      ]
     },
     "execution_count": 43,
     "metadata": {},
     "output_type": "execute_result"
    }
   ],
   "source": [
    "tk.tools"
   ]
  },
  {
   "cell_type": "code",
   "execution_count": 44,
   "metadata": {},
   "outputs": [],
   "source": [
    "assert (\n",
    "    tk.tools[0].run({\"a\": 2, \"b\": 3})\n",
    "    == sum2_tool.run({\"a\": 2, \"b\": 3})\n",
    "    == sum2_func.run({\"a\": 2, \"b\": 3})\n",
    ")"
   ]
  },
  {
   "cell_type": "code",
   "execution_count": 45,
   "metadata": {},
   "outputs": [],
   "source": [
    "assert (\n",
    "    tk.get_tool_by_name(\"sum2\").run({\"a\": 2, \"b\": 3})\n",
    "    == sum2_tool.run({\"a\": 2, \"b\": 3})\n",
    "    == sum2_func.run({\"a\": 2, \"b\": 3})\n",
    ")"
   ]
  },
  {
   "cell_type": "code",
   "execution_count": 48,
   "metadata": {},
   "outputs": [],
   "source": [
    "from tool import ToolCallProcessor\n",
    "\n",
    "# Example usage\n",
    "processor = ToolCallProcessor(\n",
    "    \"\"\"\n",
    "<tool_call>\n",
    "{\"name\": \"summation\", \"arguments\": {\"x\": 3, \"y\": 6}, \"id\": 2}\n",
    "</tool_call>\n",
    "<tool_call>\n",
    "{\"name\": \"search\", \"arguments\": {\"query\": \"what is an LLM on google.com\"}, \"id\": 3}\n",
    "</tool_call>\n",
    "\"\"\"\n",
    ")"
   ]
  },
  {
   "cell_type": "code",
   "execution_count": 49,
   "metadata": {},
   "outputs": [],
   "source": [
    "for call in processor.calls:\n",
    "    print(call)"
   ]
  }
 ],
 "metadata": {
  "kernelspec": {
   "display_name": "agents",
   "language": "python",
   "name": "python3"
  },
  "language_info": {
   "codemirror_mode": {
    "name": "ipython",
    "version": 3
   },
   "file_extension": ".py",
   "mimetype": "text/x-python",
   "name": "python",
   "nbconvert_exporter": "python",
   "pygments_lexer": "ipython3",
   "version": "3.10.12"
  }
 },
 "nbformat": 4,
 "nbformat_minor": 2
}
