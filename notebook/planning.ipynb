{
 "cells": [
  {
   "cell_type": "code",
   "execution_count": 1,
   "metadata": {},
   "outputs": [],
   "source": [
    "%load_ext autoreload\n",
    "%autoreload 2"
   ]
  },
  {
   "cell_type": "code",
   "execution_count": 2,
   "metadata": {},
   "outputs": [],
   "source": [
    "import json\n",
    "from ollama import Client\n",
    "from IPython.display import display_markdown\n",
    "\n",
    "from tool import ToolKit, ToolCallProcessor\n",
    "from functions import summation, multiplication"
   ]
  },
  {
   "cell_type": "markdown",
   "metadata": {},
   "source": [
    "#### Connect to local Ollama_server"
   ]
  },
  {
   "cell_type": "code",
   "execution_count": 3,
   "metadata": {},
   "outputs": [
    {
     "data": {
      "text/plain": [
       "{'status': 'success'}"
      ]
     },
     "execution_count": 3,
     "metadata": {},
     "output_type": "execute_result"
    }
   ],
   "source": [
    "client = Client(host=\"http://localhost:11434\")\n",
    "\n",
    "model_name = \"qwen2.5:7b\"\n",
    "\n",
    "# Pull a model\n",
    "result = client.pull(model=model_name)\n",
    "result"
   ]
  },
  {
   "cell_type": "markdown",
   "metadata": {},
   "source": [
    "### Registry functions"
   ]
  },
  {
   "cell_type": "code",
   "execution_count": 4,
   "metadata": {},
   "outputs": [],
   "source": [
    "# Instanciar o registro de ferramentas\n",
    "toolkit = ToolKit(tools=[summation, multiplication])"
   ]
  },
  {
   "cell_type": "markdown",
   "metadata": {},
   "source": [
    "## Create planning agent"
   ]
  },
  {
   "cell_type": "code",
   "execution_count": 5,
   "metadata": {},
   "outputs": [],
   "source": [
    "tools = \"\\n\\n\".join(\n",
    "    [json.dumps(schema, indent=4) for schema in toolkit.tools_schemas()]\n",
    ")\n",
    "\n",
    "\n",
    "REACT_PROMPT = (\n",
    "    \"\"\"\n",
    "You are a function calling AI model. You operate breaking a task given by a user's question into steps: <thought>, <tool_calls>, <tool_response>.\n",
    "Take special attention to the functions params dtypes.\n",
    "You may call one or more functions to assist with the user query.\n",
    "You are provided with function signatures within <tools></tools> XML tags, here are the available tools:\n",
    "<tools>\n",
    "%s\n",
    "</tools>\n",
    "\n",
    "The reasoning and thoughts should be enclosed within <thought></thought> XML tags.\n",
    "<thought>\n",
    "thought/reasoning\n",
    "</thought>\n",
    "\n",
    "If a function call is needed and the function is listed, return a JSON object containing the function name and its arguments, enclosed within <tool_calls></tool_calls> XML tags.\n",
    "<tool_calls>\n",
    "{\"name\": <function-name>, \"arguments\": <args-json-object>, \"id\": <monotonically-increasing-id>}\n",
    "</tool_calls>\n",
    "\n",
    "The function call response will be enclosed within <tool_response></tool_response> XML tags.\n",
    "<tool_response>\n",
    "tool response\n",
    "</tool_response>\n",
    "\n",
    "The final response to the user will be enclosed within <response></response> XML tags.\n",
    "<response>\n",
    "Response after reasoning and acting (ReAct)\n",
    "</response>\n",
    "\n",
    "Example session:\n",
    "\n",
    "<question>Can you verify if it's friday and if yes, can you show a message \\\"IT'S FRIDAY\\\"?</question>\n",
    "<thought>I need to check if today is friday, if today is friday i should show a message saying \\\"IT'S FRIDAY\\\".First i will verify if it's friday.</thought>\n",
    "<tool_calls>{\\\"name\\\": \\\"is_friday\\\",\\\"arguments\\\": {\\\"date\\\": \\\"10/01/2024\\\"}, \\\"id\\\": 0}</tool_calls>\n",
    "\n",
    "Then you will be feeded with the result of the function call:\n",
    "<tool_response>True</tool_response>\n",
    "\n",
    "Then you can go to the next step with depends on first:\n",
    "<thought>It's friday, now i should show a message:</thought>\n",
    "<tool_calls>{\\\"name\\\": \\\"show_message\\\",\\\"arguments\\\": {\\\"message\\\": \\\"IT'S FRIDAY\\\"}, \\\"id\\\": 1}</tool_calls>\n",
    "\n",
    "Then you will be feeded with the result of the function call: \n",
    "<tool_response>{\"success\": True}</tool_response>\n",
    "\n",
    "And if no more function calls are needed, you can respond with:\n",
    "<response>Today is friday! I showed a message remenbering you of this.</response>\n",
    "\"\"\"\n",
    "    % tools\n",
    ")"
   ]
  },
  {
   "cell_type": "code",
   "execution_count": 6,
   "metadata": {},
   "outputs": [],
   "source": [
    "import re\n",
    "\n",
    "\n",
    "def is_final_response(content, pattern=r\"<response>(.*?)</response>\"):\n",
    "    \"\"\"\n",
    "    Check if the input string contains <response></response> tags.\n",
    "\n",
    "    Args:\n",
    "        input_string (str): The string to check for <response> tags.\n",
    "\n",
    "    Returns:\n",
    "        bool: True if the tags are found, False otherwise.\n",
    "    \"\"\"\n",
    "    # Search for the pattern in the input string\n",
    "    match = bool(re.search(pattern, content, re.DOTALL))\n",
    "\n",
    "    # Return True if the tags are found\n",
    "    return match"
   ]
  },
  {
   "cell_type": "code",
   "execution_count": null,
   "metadata": {},
   "outputs": [],
   "source": [
    "# Step 1\n",
    "chat_history = [\n",
    "    {\n",
    "        \"role\": \"system\",\n",
    "        \"content\": REACT_PROMPT,\n",
    "    }\n",
    "]\n",
    "\n",
    "chat_history.append(\n",
    "    {\n",
    "        \"role\": \"user\",\n",
    "        \"content\": \"<question>Can you multiple 25 by 12 and sum the result by 3 and multiply by 12 and then sum by 354?</question>\",\n",
    "    }\n",
    ")\n",
    "\n",
    "final_response = None\n",
    "\n",
    "while True:\n",
    "    planning_request = client.chat(model=model_name, messages=chat_history)\n",
    "\n",
    "    planning_request_content = planning_request[\"message\"][\"content\"]\n",
    "\n",
    "    if is_final_response(planning_request_content):\n",
    "        final_response = planning_request_content\n",
    "        break\n",
    "\n",
    "    processor = ToolCallProcessor(planning_request_content)\n",
    "\n",
    "    chat_history.append({\"role\": \"assistant\", \"content\": planning_request_content})\n",
    "\n",
    "    for call in processor.calls:\n",
    "        try:\n",
    "            result = toolkit.get_tool_by_name(call.name).run(call.arguments)\n",
    "\n",
    "            chat_history.append(\n",
    "                {\"role\": \"tool\", \"content\": f\"<tool_response>{result}</tool_response>\"}\n",
    "            )\n",
    "        except Exception as ee:\n",
    "            print(ee)"
   ]
  },
  {
   "cell_type": "code",
   "execution_count": null,
   "metadata": {},
   "outputs": [
    {
     "data": {
      "text/plain": [
       "[{'role': 'system',\n",
       "  'content': '\\nYou are a function calling AI model. You operate breaking a task given by a user\\'s question into steps: <thought>, <tool_calls>, <tool_response>.\\nTake special attention to the functions params dtypes.\\nYou may call one or more functions to assist with the user query.\\nYou are provided with function signatures within <tools></tools> XML tags, here are the available tools:\\n<tools>\\n{\\n    \"name\": \"summation\",\\n    \"doc\": \"\\\\n    Add two integers.\\\\n\\\\n    Parameters\\\\n    ----------\\\\n    x : int\\\\n        The first integer to be added.\\\\n    y : int, optional\\\\n        The second integer to be added (default is 0).\\\\n\\\\n    Returns\\\\n    -------\\\\n    int\\\\n        The sum of `x` and `y`.\\\\n    \",\\n    \"parameters\": {\\n        \"properties\": {\\n            \"x\": {\\n                \"type\": \"int\"\\n            },\\n            \"y\": {\\n                \"type\": \"int\"\\n            }\\n        }\\n    }\\n}\\n\\n{\\n    \"name\": \"multiplication\",\\n    \"doc\": \"\\\\n    Multiply two integers.\\\\n\\\\n    Parameters\\\\n    ----------\\\\n    x : int\\\\n        The first integer to be multiplied.\\\\n    y : int\\\\n        The second integer to be multiplied.\\\\n\\\\n    Returns\\\\n    -------\\\\n    int\\\\n        The product of `x` and `y`.\\\\n    \",\\n    \"parameters\": {\\n        \"properties\": {\\n            \"x\": {\\n                \"type\": \"int\"\\n            },\\n            \"y\": {\\n                \"type\": \"int\"\\n            }\\n        }\\n    }\\n}\\n</tools>\\n\\nThe reasoning and thoughts should be enclosed within <thought></thought> XML tags.\\n<thought>\\nthought/reasoning\\n</thought>\\n\\nIf a function call is needed and the function is listed, return a JSON object containing the function name and its arguments, enclosed within <tool_calls></tool_calls> XML tags.\\n<tool_calls>\\n{\"name\": <function-name>, \"arguments\": <args-json-object>, \"id\": <monotonically-increasing-id>}\\n</tool_calls>\\n\\nThe function call response will be enclosed within <tool_response></tool_response> XML tags.\\n<tool_response>\\ntool response\\n</tool_response>\\n\\nThe final response to the user will be enclosed within <response></response> XML tags.\\n<response>\\nResponse after reasoning and acting (ReAct)\\n</response>\\n\\nExample session:\\n\\n<question>Can you verify if it\\'s friday and if yes, can you show a message \"IT\\'S FRIDAY\"?</question>\\n<thought>I need to check if today is friday, if today is friday i should show a message saying \"IT\\'S FRIDAY\".First i will verify if it\\'s friday.</thought>\\n<tool_calls>{\"name\": \"is_friday\",\"arguments\": {\"date\": \"10/01/2024\"}, \"id\": 0}</tool_calls>\\n\\nThen you will be feeded with the result of the function call:\\n<tool_response>True</tool_response>\\n\\nThen you can go to the next step with depends on first:\\n<thought>It\\'s friday, now i should show a message:</thought>\\n<tool_calls>{\"name\": \"show_message\",\"arguments\": {\"message\": \"IT\\'S FRIDAY\"}, \"id\": 1}</tool_calls>\\n\\nThen you will be feeded with the result of the function call: \\n<tool_response>{\"success\": True}</tool_response>\\n\\nAnd if no more function calls are needed, you can respond with:\\n<response>Today is friday! I showed a message remenbering you of this.</response>\\n'},\n",
       " {'role': 'user',\n",
       "  'content': '<question>Can you multiple 25 by 12 and sum the result by 3 and multiply by 12 and then sum by 354?</question>'},\n",
       " {'role': 'assistant',\n",
       "  'content': '<thought>To solve this, I need to break down the task into steps. First, I will multiply 25 by 12. Then add 3 to the result of that multiplication. Next, I will multiply the new result by 12 and finally add 354 to it. This can be achieved in multiple function calls.</thought>\\n<tool_calls>\\n{\"name\": \"multiplication\", \"arguments\": {\"x\": 25, \"y\": 12}, \"id\": 0}\\n</tool_calls>'},\n",
       " {'role': 'tool', 'content': '<tool_response>300</tool_response>'},\n",
       " {'role': 'assistant',\n",
       "  'content': '<tool_calls>\\n{\"name\": \"summation\", \"arguments\": {\"x\": 300, \"y\": 3}, \"id\": 1}\\n</tool_calls>'},\n",
       " {'role': 'tool', 'content': '<tool_response>303</tool_response>'},\n",
       " {'role': 'assistant',\n",
       "  'content': '<tool_calls>\\n{\"name\": \"multiplication\", \"arguments\": {\"x\": 303, \"y\": 12}, \"id\": 2}\\n</tool_calls>'},\n",
       " {'role': 'tool', 'content': '<tool_response>3636</tool_response>'},\n",
       " {'role': 'assistant',\n",
       "  'content': '<tool_calls>\\n{\"name\": \"summation\", \"arguments\": {\"x\": 3636, \"y\": 354}, \"id\": 3}\\n</tool_calls>'},\n",
       " {'role': 'tool', 'content': '<tool_response>3990</tool_response>'}]"
      ]
     },
     "execution_count": 8,
     "metadata": {},
     "output_type": "execute_result"
    }
   ],
   "source": [
    "chat_history"
   ]
  },
  {
   "cell_type": "code",
   "execution_count": null,
   "metadata": {},
   "outputs": [
    {
     "name": "stdout",
     "output_type": "stream",
     "text": [
      "The final result of the calculation is 3990. \n",
      "\n",
      "<response>The result of multiplying 25 by 12, summing the result by 3, multiplying that by 12 and then summing by 354 is 3990.</response>\n"
     ]
    }
   ],
   "source": [
    "print(final_response)"
   ]
  }
 ],
 "metadata": {
  "kernelspec": {
   "display_name": "agents",
   "language": "python",
   "name": "python3"
  },
  "language_info": {
   "codemirror_mode": {
    "name": "ipython",
    "version": 3
   },
   "file_extension": ".py",
   "mimetype": "text/x-python",
   "name": "python",
   "nbconvert_exporter": "python",
   "pygments_lexer": "ipython3",
   "version": "3.10.12"
  }
 },
 "nbformat": 4,
 "nbformat_minor": 2
}
