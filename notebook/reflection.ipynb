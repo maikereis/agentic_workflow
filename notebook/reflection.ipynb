{
 "cells": [
  {
   "cell_type": "code",
   "execution_count": 1,
   "metadata": {},
   "outputs": [],
   "source": [
    "%load_ext autoreload\n",
    "%autoreload 2"
   ]
  },
  {
   "cell_type": "code",
   "execution_count": 2,
   "metadata": {},
   "outputs": [],
   "source": [
    "import os\n",
    "\n",
    "# System call\n",
    "os.system(\"\")\n",
    "\n",
    "\n",
    "# Class of different styles\n",
    "class Style:\n",
    "    BLACK = \"\\033[30m\"  # Black\n",
    "    RED = \"\\033[31m\"  # Red (Used for error level in loguru)\n",
    "    GREEN = \"\\033[32m\"  # Green (Success messages)\n",
    "    YELLOW = \"\\033[33m\"  # Yellow (Warnings)\n",
    "    BLUE = \"\\033[34m\"  # Blue (Info)\n",
    "    MAGENTA = \"\\033[35m\"  # Magenta (Verbose or other custom levels)\n",
    "    CYAN = \"\\033[36m\"  # Cyan (Debug level in loguru)\n",
    "    WHITE = \"\\033[37m\"  # White (Default, standard text)\n",
    "\n",
    "    UNDERLINE = \"\\033[4m\"  # Underline for emphasis\n",
    "    BOLD = \"\\033[1m\"  # Bold text\n",
    "    RESET = \"\\033[0m\"  # Reset to default formatting"
   ]
  },
  {
   "cell_type": "markdown",
   "metadata": {},
   "source": [
    "#### Connect to local llama_server"
   ]
  },
  {
   "cell_type": "code",
   "execution_count": 3,
   "metadata": {},
   "outputs": [],
   "source": [
    "from ollama import Client\n",
    "from IPython.display import display_markdown\n",
    "\n",
    "client = Client(host=\"http://localhost:11434\")"
   ]
  },
  {
   "cell_type": "code",
   "execution_count": 4,
   "metadata": {},
   "outputs": [],
   "source": [
    "model_name = \"qwen2.5-coder:7b\""
   ]
  },
  {
   "cell_type": "code",
   "execution_count": 5,
   "metadata": {},
   "outputs": [
    {
     "data": {
      "text/plain": [
       "{'status': 'success'}"
      ]
     },
     "execution_count": 5,
     "metadata": {},
     "output_type": "execute_result"
    }
   ],
   "source": [
    "# Pull a model\n",
    "result = client.pull(model=model_name)\n",
    "result"
   ]
  },
  {
   "cell_type": "markdown",
   "metadata": {},
   "source": [
    "## Create reflection agent"
   ]
  },
  {
   "cell_type": "code",
   "execution_count": 6,
   "metadata": {},
   "outputs": [],
   "source": [
    "generation_chat_history = []\n",
    "reflection_chat_history = []"
   ]
  },
  {
   "cell_type": "markdown",
   "metadata": {},
   "source": [
    "#### Pre-set the generation agent with a context and request"
   ]
  },
  {
   "cell_type": "code",
   "execution_count": 7,
   "metadata": {},
   "outputs": [],
   "source": [
    "generation_prompt = {\n",
    "    \"role\": \"system\",\n",
    "    \"content\": \"You are a experienced Python programmer tasked with generating high quality and very well documented Python code. If the user provides critique, respond with a revised version of your code from previous attempts.\",\n",
    "}\n",
    "\n",
    "request_prompt = {\n",
    "    \"role\": \"user\",\n",
    "    \"content\": \"Generate a python implementation of the quicksort algorithm.\",\n",
    "}"
   ]
  },
  {
   "cell_type": "code",
   "execution_count": 8,
   "metadata": {},
   "outputs": [],
   "source": [
    "generation_chat_history.append(generation_prompt)\n",
    "generation_chat_history.append(request_prompt)"
   ]
  },
  {
   "cell_type": "markdown",
   "metadata": {},
   "source": [
    "#### Generate a response to the request given the context."
   ]
  },
  {
   "cell_type": "code",
   "execution_count": 9,
   "metadata": {},
   "outputs": [],
   "source": [
    "# Generate\n",
    "generation_response = client.chat(model=model_name, messages=generation_chat_history)\n",
    "\n",
    "generation_response_content = generation_response[\"message\"][\"content\"]\n",
    "\n",
    "# Assign the reponse the an entity called 'assistant'.\n",
    "request_reponse_prompt = {\n",
    "    \"role\": \"assistant\",\n",
    "    \"content\": generation_response_content,\n",
    "}\n",
    "\n",
    "# Add the LLM response to the chat history.\n",
    "generation_chat_history.append(request_reponse_prompt)"
   ]
  },
  {
   "cell_type": "code",
   "execution_count": 10,
   "metadata": {},
   "outputs": [
    {
     "data": {
      "text/markdown": [
       "Certainly! Below is a Python implementation of the Quicksort algorithm. This implementation includes detailed comments to help understand each part of the algorithm.\n",
       "\n",
       "```python\n",
       "def quicksort(arr):\n",
       "    \"\"\"\n",
       "    Sorts an array in ascending order using the Quicksort algorithm.\n",
       "    \n",
       "    Parameters:\n",
       "    arr (list): The list of elements to be sorted.\n",
       "    \n",
       "    Returns:\n",
       "    list: The sorted list.\n",
       "    \"\"\"\n",
       "    if len(arr) <= 1:\n",
       "        return arr\n",
       "    else:\n",
       "        # Select a pivot element from the array. Here we choose the last element as the pivot.\n",
       "        pivot = arr[-1]\n",
       "        \n",
       "        # Partitioning the array into three parts:\n",
       "        # - less: elements less than the pivot\n",
       "        # - equal: elements equal to the pivot\n",
       "        # - greater: elements greater than the pivot\n",
       "        less = [x for x in arr[:-1] if x < pivot]\n",
       "        equal = [x for x in arr if x == pivot]\n",
       "        greater = [x for x in arr[:-1] if x > pivot]\n",
       "        \n",
       "        # Recursively apply quicksort to the 'less' and 'greater' parts, then concatenate them with the 'equal' part.\n",
       "        return quicksort(less) + equal + quicksort(greater)\n",
       "\n",
       "# Example usage:\n",
       "if __name__ == \"__main__\":\n",
       "    example_array = [3, 6, 8, 10, 1, 2, 1]\n",
       "    print(\"Unsorted array:\", example_array)\n",
       "    sorted_array = quicksort(example_array)\n",
       "    print(\"Sorted array:\", sorted_array)\n",
       "```\n",
       "\n",
       "### Explanation:\n",
       "\n",
       "1. **Base Case**: If the array has 1 or 0 elements, it is already sorted, so we return it as is.\n",
       "2. **Pivot Selection**: We choose the last element of the array as the pivot.\n",
       "3. **Partitioning**:\n",
       "   - We create three lists: `less` for elements less than the pivot, `equal` for elements equal to the pivot, and `greater` for elements greater than the pivot.\n",
       "4. **Recursive Sorting**: We recursively apply the Quicksort algorithm to the `less` and `greater` lists.\n",
       "5. **Concatenation**: Finally, we concatenate the sorted `less` list, the `equal` list, and the sorted `greater` list to form the final sorted array.\n",
       "\n",
       "This implementation is simple and easy to understand but may not be the most efficient for large arrays due to the use of additional space for lists during partitioning. For an in-place version, consider using a different approach like Lomuto's or Hoare's partition scheme."
      ]
     },
     "metadata": {},
     "output_type": "display_data"
    }
   ],
   "source": [
    "display_markdown(generation_response_content, raw=True)"
   ]
  },
  {
   "cell_type": "markdown",
   "metadata": {},
   "source": [
    "#### Pre-set the reflection agent with a context and request"
   ]
  },
  {
   "cell_type": "code",
   "execution_count": 11,
   "metadata": {},
   "outputs": [],
   "source": [
    "reflection_prompt = {\n",
    "    \"role\": \"system\",\n",
    "    \"content\": \"You are a experienced Python developer reponsible to supervise a software development project. You're tasked for creating and performing tests, identifying errors, and providing detailed feedback and recommendations to the user's code. Critique the code submitted for code quality, completeness, responsability, scope acucary and documentation.\",\n",
    "}\n",
    "\n",
    "critique_prompt = {\n",
    "    \"role\": \"user\",\n",
    "    \"content\": generation_response_content,\n",
    "}\n",
    "\n",
    "\n",
    "reflection_chat_history.append(reflection_prompt)\n",
    "reflection_chat_history.append(critique_prompt)"
   ]
  },
  {
   "cell_type": "markdown",
   "metadata": {},
   "source": [
    "#### Generate a critique to the generated code."
   ]
  },
  {
   "cell_type": "code",
   "execution_count": 12,
   "metadata": {},
   "outputs": [],
   "source": [
    "critique_response = client.chat(model=model_name, messages=reflection_chat_history)\n",
    "critique_response_content = critique_response[\"message\"][\"content\"]"
   ]
  },
  {
   "cell_type": "code",
   "execution_count": 13,
   "metadata": {},
   "outputs": [],
   "source": [
    "generation_chat_history.append({\"role\": \"user\", \"content\": critique_response_content})"
   ]
  },
  {
   "cell_type": "code",
   "execution_count": 14,
   "metadata": {},
   "outputs": [
    {
     "data": {
      "text/plain": [
       "[{'role': 'system',\n",
       "  'content': 'You are a experienced Python programmer tasked with generating high quality and very well documented Python code. If the user provides critique, respond with a revised version of your code from previous attempts.'},\n",
       " {'role': 'user',\n",
       "  'content': 'Generate a python implementation of the quicksort algorithm.'},\n",
       " {'role': 'assistant',\n",
       "  'content': 'Certainly! Below is a Python implementation of the Quicksort algorithm. This implementation includes detailed comments to help understand each part of the algorithm.\\n\\n```python\\ndef quicksort(arr):\\n    \"\"\"\\n    Sorts an array in ascending order using the Quicksort algorithm.\\n    \\n    Parameters:\\n    arr (list): The list of elements to be sorted.\\n    \\n    Returns:\\n    list: The sorted list.\\n    \"\"\"\\n    if len(arr) <= 1:\\n        return arr\\n    else:\\n        # Select a pivot element from the array. Here we choose the last element as the pivot.\\n        pivot = arr[-1]\\n        \\n        # Partitioning the array into three parts:\\n        # - less: elements less than the pivot\\n        # - equal: elements equal to the pivot\\n        # - greater: elements greater than the pivot\\n        less = [x for x in arr[:-1] if x < pivot]\\n        equal = [x for x in arr if x == pivot]\\n        greater = [x for x in arr[:-1] if x > pivot]\\n        \\n        # Recursively apply quicksort to the \\'less\\' and \\'greater\\' parts, then concatenate them with the \\'equal\\' part.\\n        return quicksort(less) + equal + quicksort(greater)\\n\\n# Example usage:\\nif __name__ == \"__main__\":\\n    example_array = [3, 6, 8, 10, 1, 2, 1]\\n    print(\"Unsorted array:\", example_array)\\n    sorted_array = quicksort(example_array)\\n    print(\"Sorted array:\", sorted_array)\\n```\\n\\n### Explanation:\\n\\n1. **Base Case**: If the array has 1 or 0 elements, it is already sorted, so we return it as is.\\n2. **Pivot Selection**: We choose the last element of the array as the pivot.\\n3. **Partitioning**:\\n   - We create three lists: `less` for elements less than the pivot, `equal` for elements equal to the pivot, and `greater` for elements greater than the pivot.\\n4. **Recursive Sorting**: We recursively apply the Quicksort algorithm to the `less` and `greater` lists.\\n5. **Concatenation**: Finally, we concatenate the sorted `less` list, the `equal` list, and the sorted `greater` list to form the final sorted array.\\n\\nThis implementation is simple and easy to understand but may not be the most efficient for large arrays due to the use of additional space for lists during partitioning. For an in-place version, consider using a different approach like Lomuto\\'s or Hoare\\'s partition scheme.'},\n",
       " {'role': 'user',\n",
       "  'content': '### Code Quality Critique\\n\\n1. **Documentation**:\\n   - The docstring provided is clear and concise. It explains what the function does, its parameters, and its return value.\\n   - However, it could be more detailed, especially around edge cases like an empty list or a list with only one element.\\n\\n2. **Readability**:\\n   - The code is readable and well-commented, which aids in understanding each step of the algorithm.\\n   - The use of list comprehensions for partitioning makes the code concise but might be less intuitive to someone unfamiliar with Python.\\n\\n3. **Efficiency**:\\n   - The current implementation has a space complexity of O(n) due to the additional lists created during partitioning. This is not efficient for large datasets.\\n   - To improve efficiency, an in-place version of Quicksort could be implemented, which would have a space complexity of O(log n).\\n\\n4. **Edge Cases**:\\n   - The code handles edge cases well (empty list and single-element list).\\n   - However, it does not handle cases where the input is not a list or contains non-integer elements.\\n\\n5. **Code Completeness**:\\n   - The code is complete, with all necessary steps for sorting an array using Quicksort.\\n   - It includes an example usage within the `if __name__ == \"__main__\":` block, which makes it easy to test and understand.\\n\\n6. **Responsibility**:\\n   - The code is self-contained and does not rely on any external libraries or global variables.\\n   - However, the use of list comprehensions might be unfamiliar to some developers, so they might need time to understand the logic behind each line.\\n\\n### Recommendations\\n\\n1. **In-place Quicksort**:\\n   - Implement an in-place version of Quicksort using Lomuto\\'s or Hoare\\'s partition scheme to improve space efficiency.\\n   ```python\\n   def quicksort_in_place(arr, low, high):\\n       if low < high:\\n           pi = partition(arr, low, high)\\n           quicksort_in_place(arr, low, pi - 1)\\n           quicksort_in_place(arr, pi + 1, high)\\n\\n   def partition(arr, low, high):\\n       pivot = arr[high]\\n       i = low - 1\\n       for j in range(low, high):\\n           if arr[j] < pivot:\\n               i += 1\\n               arr[i], arr[j] = arr[j], arr[i]\\n       arr[i + 1], arr[high] = arr[high], arr[i + 1]\\n       return i + 1\\n\\n   # Example usage with in-place sorting:\\n   if __name__ == \"__main__\":\\n       example_array = [3, 6, 8, 10, 1, 2, 1]\\n       print(\"Unsorted array:\", example_array)\\n       quicksort_in_place(example_array, 0, len(example_array) - 1)\\n       print(\"Sorted array:\", example_array)\\n   ```\\n\\n2. **Type and Input Validation**:\\n   - Add type and input validation to ensure that the function only processes lists of integers.\\n   ```python\\n   def quicksort(arr):\\n       if not isinstance(arr, list):\\n           raise TypeError(\"Input must be a list\")\\n       for element in arr:\\n           if not isinstance(element, int):\\n               raise ValueError(\"All elements in the list must be integers\")\\n       \\n       # Rest of the code remains unchanged...\\n   ```\\n\\n3. **Documentation Enhancement**:\\n   - Enhance the docstring to provide more detailed information about edge cases and potential usage scenarios.\\n   ```python\\n   def quicksort(arr):\\n       \"\"\"\\n       Sorts an array in ascending order using the Quicksort algorithm.\\n       \\n       Parameters:\\n       arr (list of int): The list of integers to be sorted.\\n       \\n       Returns:\\n       list of int: The sorted list of integers.\\n       \\n       Raises:\\n       TypeError: If the input is not a list.\\n       ValueError: If the list contains non-integer elements.\\n       \\n       Edge Cases:\\n       - An empty list returns an empty list.\\n       - A list with a single element returns the same list.\\n       \"\"\"\\n   ```\\n\\nBy implementing these recommendations, the code will be more efficient and robust, handling edge cases better and providing clearer documentation.'}]"
      ]
     },
     "execution_count": 14,
     "metadata": {},
     "output_type": "execute_result"
    }
   ],
   "source": [
    "generation_chat_history"
   ]
  },
  {
   "cell_type": "code",
   "execution_count": 15,
   "metadata": {},
   "outputs": [],
   "source": [
    "best_response = client.chat(model=model_name, messages=generation_chat_history)"
   ]
  },
  {
   "cell_type": "code",
   "execution_count": 16,
   "metadata": {},
   "outputs": [
    {
     "data": {
      "text/markdown": [
       "Thank you for your detailed critique! Based on your feedback, I have revised the Quicksort implementation to include an in-place version, input validation, and enhanced documentation.\n",
       "\n",
       "Here is the improved version of the code:\n",
       "\n",
       "```python\n",
       "def quicksort(arr):\n",
       "    \"\"\"\n",
       "    Sorts an array in ascending order using the Quicksort algorithm.\n",
       "    \n",
       "    Parameters:\n",
       "    arr (list of int): The list of integers to be sorted.\n",
       "    \n",
       "    Returns:\n",
       "    list of int: The sorted list of integers.\n",
       "    \n",
       "    Raises:\n",
       "    TypeError: If the input is not a list.\n",
       "    ValueError: If the list contains non-integer elements.\n",
       "    \n",
       "    Edge Cases:\n",
       "    - An empty list returns an empty list.\n",
       "    - A list with a single element returns the same list.\n",
       "    \"\"\"\n",
       "    if not isinstance(arr, list):\n",
       "        raise TypeError(\"Input must be a list\")\n",
       "    for element in arr:\n",
       "        if not isinstance(element, int):\n",
       "            raise ValueError(\"All elements in the list must be integers\")\n",
       "    \n",
       "    def quicksort_in_place(low, high):\n",
       "        if low < high:\n",
       "            pi = partition(arr, low, high)\n",
       "            quicksort_in_place(low, pi - 1)\n",
       "            quicksort_in_place(pi + 1, high)\n",
       "\n",
       "    def partition(low, high):\n",
       "        pivot = arr[high]\n",
       "        i = low - 1\n",
       "        for j in range(low, high):\n",
       "            if arr[j] < pivot:\n",
       "                i += 1\n",
       "                arr[i], arr[j] = arr[j], arr[i]\n",
       "        arr[i + 1], arr[high] = arr[high], arr[i + 1]\n",
       "        return i + 1\n",
       "\n",
       "    quicksort_in_place(0, len(arr) - 1)\n",
       "    return arr\n",
       "\n",
       "# Example usage with in-place sorting:\n",
       "if __name__ == \"__main__\":\n",
       "    example_array = [3, 6, 8, 10, 1, 2, 1]\n",
       "    print(\"Unsorted array:\", example_array)\n",
       "    sorted_array = quicksort(example_array)\n",
       "    print(\"Sorted array:\", sorted_array)\n",
       "```\n",
       "\n",
       "### Explanation of Improvements:\n",
       "\n",
       "1. **In-place Quicksort**:\n",
       "   - The `quicksort_in_place` function sorts the array in place, reducing the space complexity to O(log n).\n",
       "   - The `partition` function rearranges elements around a pivot element.\n",
       "\n",
       "2. **Input Validation**:\n",
       "   - The function now checks if the input is a list and if all elements are integers, raising appropriate exceptions if not.\n",
       "\n",
       "3. **Enhanced Documentation**:\n",
       "   - The docstring has been enhanced to provide more detailed information about edge cases and potential usage scenarios.\n",
       "\n",
       "4. **Example Usage**:\n",
       "   - The example usage demonstrates how to sort an array using the in-place Quicksort implementation.\n",
       "\n",
       "By incorporating these changes, the code is now more efficient, robust, and user-friendly."
      ]
     },
     "metadata": {},
     "output_type": "display_data"
    }
   ],
   "source": [
    "final_response = best_response[\"message\"][\"content\"]\n",
    "\n",
    "display_markdown(final_response, raw=True)"
   ]
  },
  {
   "cell_type": "code",
   "execution_count": 17,
   "metadata": {},
   "outputs": [
    {
     "data": {
      "text/plain": [
       "[{'role': 'system',\n",
       "  'content': \"You are a experienced Python developer reponsible to supervise a software development project. You're tasked for creating and performing tests, identifying errors, and providing detailed feedback and recommendations to the user's code. Critique the code submitted for code quality, completeness, responsability, scope acucary and documentation.\"},\n",
       " {'role': 'user',\n",
       "  'content': 'Certainly! Below is a Python implementation of the Quicksort algorithm. This implementation includes detailed comments to help understand each part of the algorithm.\\n\\n```python\\ndef quicksort(arr):\\n    \"\"\"\\n    Sorts an array in ascending order using the Quicksort algorithm.\\n    \\n    Parameters:\\n    arr (list): The list of elements to be sorted.\\n    \\n    Returns:\\n    list: The sorted list.\\n    \"\"\"\\n    if len(arr) <= 1:\\n        return arr\\n    else:\\n        # Select a pivot element from the array. Here we choose the last element as the pivot.\\n        pivot = arr[-1]\\n        \\n        # Partitioning the array into three parts:\\n        # - less: elements less than the pivot\\n        # - equal: elements equal to the pivot\\n        # - greater: elements greater than the pivot\\n        less = [x for x in arr[:-1] if x < pivot]\\n        equal = [x for x in arr if x == pivot]\\n        greater = [x for x in arr[:-1] if x > pivot]\\n        \\n        # Recursively apply quicksort to the \\'less\\' and \\'greater\\' parts, then concatenate them with the \\'equal\\' part.\\n        return quicksort(less) + equal + quicksort(greater)\\n\\n# Example usage:\\nif __name__ == \"__main__\":\\n    example_array = [3, 6, 8, 10, 1, 2, 1]\\n    print(\"Unsorted array:\", example_array)\\n    sorted_array = quicksort(example_array)\\n    print(\"Sorted array:\", sorted_array)\\n```\\n\\n### Explanation:\\n\\n1. **Base Case**: If the array has 1 or 0 elements, it is already sorted, so we return it as is.\\n2. **Pivot Selection**: We choose the last element of the array as the pivot.\\n3. **Partitioning**:\\n   - We create three lists: `less` for elements less than the pivot, `equal` for elements equal to the pivot, and `greater` for elements greater than the pivot.\\n4. **Recursive Sorting**: We recursively apply the Quicksort algorithm to the `less` and `greater` lists.\\n5. **Concatenation**: Finally, we concatenate the sorted `less` list, the `equal` list, and the sorted `greater` list to form the final sorted array.\\n\\nThis implementation is simple and easy to understand but may not be the most efficient for large arrays due to the use of additional space for lists during partitioning. For an in-place version, consider using a different approach like Lomuto\\'s or Hoare\\'s partition scheme.'}]"
      ]
     },
     "execution_count": 17,
     "metadata": {},
     "output_type": "execute_result"
    }
   ],
   "source": [
    "reflection_chat_history"
   ]
  },
  {
   "cell_type": "markdown",
   "metadata": {},
   "source": [
    "### All in the loop"
   ]
  },
  {
   "cell_type": "code",
   "execution_count": 18,
   "metadata": {},
   "outputs": [],
   "source": [
    "def user_query(question):\n",
    "    generation_chat_history = [\n",
    "        {\n",
    "            \"role\": \"system\",\n",
    "            \"content\": \"\"\"\n",
    "                Your task is to generate the most optimized and well-structured Python code based on the user's request.\n",
    "\n",
    "                1. **Code Generation:** Create code that meets the user's requirements while ensuring it is efficient and follows best practices.\n",
    "\n",
    "                2. **Feedback Incorporation:** If the user provides feedback or critique, revise your previous code accordingly. Ensure that the revised code reflects the user's input.\n",
    "\n",
    "                3. **Quality Assurance:** Always maintain a focus on producing code of the highest quality, adhering to Python's PEP guidelines and prioritizing readability.\n",
    "            \"\"\",\n",
    "        },\n",
    "        {\n",
    "            \"role\": \"user\",\n",
    "            \"content\": question,\n",
    "        },\n",
    "    ]\n",
    "    reflection_chat_history = [\n",
    "        {\n",
    "            \"role\": \"system\",\n",
    "            \"content\": \"\"\"\n",
    "                You are tasked with analyzing the user's provided Python code. You will give feedbacks and recommendations the the user's.\n",
    "\n",
    "                1.Critique: If there are any issues, inefficiencies, or areas for improvement, provide a detailed list of specific critiques and actionable recommendations without including any Python code in your response.\n",
    "                \n",
    "                2.Focus Areas: Pay special attention to:\n",
    "                    - Code readability\n",
    "                    - Conformity to Python's PEP guidelines\n",
    "                    - Quality of documentation (comments and docstrings)\n",
    "\n",
    "                3.Conclusion: If the code is well-written and requires no changes, offer a few positive comments about its strengths, then output the token `<DONE>` exactly.\n",
    "            \"\"\",\n",
    "        }\n",
    "    ]\n",
    "\n",
    "    n = 10\n",
    "\n",
    "    print(\n",
    "        Style.YELLOW\n",
    "        + Style.BOLD\n",
    "        + f\"\\nUser:\\n\"\n",
    "        + Style.RESET\n",
    "        + Style.YELLOW\n",
    "        + f\"\\t{question}\\n\"\n",
    "    )\n",
    "\n",
    "    for i in range(n):\n",
    "        # Generate\n",
    "        question_response = client.chat(\n",
    "            model=model_name, messages=generation_chat_history\n",
    "        )\n",
    "\n",
    "        response_content = question_response[\"message\"][\"content\"].replace(\"\\n\", \"\\n\\t\")\n",
    "\n",
    "        print(\n",
    "            Style.GREEN\n",
    "            + Style.BOLD\n",
    "            + f\"\\nAssistant:\\n\"\n",
    "            + Style.RESET\n",
    "            + Style.GREEN\n",
    "            + f\"\\t{response_content}\\n\"\n",
    "        )\n",
    "\n",
    "        # Add the LLM response to the chat history.\n",
    "        generation_chat_history.append(\n",
    "            {\n",
    "                \"role\": \"assistant\",\n",
    "                \"content\": question_response[\"message\"][\"content\"],\n",
    "            }\n",
    "        )\n",
    "\n",
    "        reflection_chat_history.append(\n",
    "            {\n",
    "                \"role\": \"user\",\n",
    "                \"content\": question_response[\"message\"][\"content\"],\n",
    "            }\n",
    "        )\n",
    "\n",
    "        # Critique\n",
    "        critique_response = client.chat(\n",
    "            model=model_name, messages=reflection_chat_history\n",
    "        )\n",
    "\n",
    "        critique_content = critique_response[\"message\"][\"content\"].replace(\"\\n\", \"\\n\\t\")\n",
    "\n",
    "        print(\n",
    "            Style.YELLOW\n",
    "            + Style.BOLD\n",
    "            + f\"\\nUser:\\n\"\n",
    "            + Style.RESET\n",
    "            + Style.YELLOW\n",
    "            + f\"\\t{critique_content}\\n\"\n",
    "        )\n",
    "\n",
    "        if \"<DONE>\" in critique_response[\"message\"][\"content\"]:\n",
    "            break\n",
    "\n",
    "        generation_chat_history.append(\n",
    "            {\n",
    "                \"role\": \"user\",\n",
    "                \"content\": critique_response[\"message\"][\"content\"],\n",
    "            }\n",
    "        )\n",
    "\n",
    "        reflection_chat_history.append(\n",
    "            {\n",
    "                \"role\": \"assistant\",\n",
    "                \"content\": critique_response[\"message\"][\"content\"],\n",
    "            }\n",
    "        )\n",
    "\n",
    "    print(\n",
    "        Style.BLUE\n",
    "        + Style.BOLD\n",
    "        + f\"\\nUser:\\n\"\n",
    "        + Style.RESET\n",
    "        + Style.BLUE\n",
    "        + f\"\\t{response_content}\\n\"\n",
    "    )\n",
    "\n",
    "    return generation_chat_history, reflection_chat_history"
   ]
  },
  {
   "cell_type": "code",
   "execution_count": 19,
   "metadata": {},
   "outputs": [
    {
     "name": "stdout",
     "output_type": "stream",
     "text": [
      "\u001b[33m\u001b[1m\n",
      "User:\n",
      "\u001b[0m\u001b[33m\tGenerate a python implementation of the quicksort algorithm\n",
      "\n",
      "\u001b[32m\u001b[1m\n",
      "Assistant:\n",
      "\u001b[0m\u001b[32m\tCertainly! Below is an optimized and well-structured Python implementation of the Quicksort algorithm:\n",
      "\t\n",
      "\t```python\n",
      "\tdef quicksort(arr):\n",
      "\t    \"\"\"\n",
      "\t    Sorts an array using the Quicksort algorithm.\n",
      "\t\n",
      "\t    Args:\n",
      "\t        arr (list): The list of elements to be sorted.\n",
      "\t\n",
      "\t    Returns:\n",
      "\t        list: The sorted list.\n",
      "\t    \"\"\"\n",
      "\t    if len(arr) <= 1:\n",
      "\t        return arr\n",
      "\t    else:\n",
      "\t        pivot = arr[len(arr) // 2]\n",
      "\t        left = [x for x in arr if x < pivot]\n",
      "\t        middle = [x for x in arr if x == pivot]\n",
      "\t        right = [x for x in arr if x > pivot]\n",
      "\t        return quicksort(left) + middle + quicksort(right)\n",
      "\t\n",
      "\t# Example usage:\n",
      "\tif __name__ == \"__main__\":\n",
      "\t    array = [3, 6, 8, 10, 1, 2, 1]\n",
      "\t    sorted_array = quicksort(array)\n",
      "\t    print(\"Sorted Array:\", sorted_array)\n",
      "\t```\n",
      "\t\n",
      "\t### Explanation:\n",
      "\t\n",
      "\t1. **Base Case**: If the list has 1 or no elements, it is already sorted, so we return it as is.\n",
      "\t2. **Pivot Selection**: We select a pivot element from the array. In this implementation, we choose the middle element of the array.\n",
      "\t3. **Partitioning**: We create three lists:\n",
      "\t   - `left`: All elements less than the pivot.\n",
      "\t   - `middle`: All elements equal to the pivot.\n",
      "\t   - `right`: All elements greater than the pivot.\n",
      "\t4. **Recursive Sorting**: We recursively apply the same logic to the `left` and `right` lists and concatenate the results with the `middle` list.\n",
      "\t\n",
      "\tThis implementation is straightforward and easy to understand, making it suitable for educational purposes as well as simple use cases. For large datasets or performance-critical applications, further optimizations such as in-place partitioning and choosing better pivot strategies can be implemented.\n",
      "\n",
      "\u001b[33m\u001b[1m\n",
      "User:\n",
      "\u001b[0m\u001b[33m\tYour provided Python code for the Quicksort algorithm is well-structured and follows good practices, including clear documentation and adherence to PEP guidelines. Here are some specific critiques and recommendations:\n",
      "\t\n",
      "\t1. **Code Readability**:\n",
      "\t   - The code is easy to follow, especially with the use of comments and structured logic.\n",
      "\t   - However, the partitioning into `left`, `middle`, and `right` lists could be more concise and efficient.\n",
      "\t\n",
      "\t2. **Conformity to PEP Guidelines**:\n",
      "\t   - The code follows PEP 8 guidelines for naming conventions (snake_case for functions).\n",
      "\t   - The use of docstrings for function documentation is appropriate.\n",
      "\t   - The example usage within a `if __name__ == \"__main__\":` block is good practice.\n",
      "\t\n",
      "\t3. **Quality of Documentation (Comments and Docstrings)**:\n",
      "\t   - The docstrings are clear and provide necessary information about the function's arguments, return value, and purpose.\n",
      "\t   - Comments could be added to explain more complex parts of the code for clarity.\n",
      "\t\n",
      "\t4. **Efficiency**:\n",
      "\t   - The current implementation is not in-place, which means it uses extra space for lists `left`, `middle`, and `right`. For larger datasets, this can be a performance issue.\n",
      "\t   - A more efficient in-place partitioning strategy could be implemented to reduce space complexity.\n",
      "\t\n",
      "\t5. **Edge Cases**:\n",
      "\t   - The code handles edge cases such as empty or single-element arrays well.\n",
      "\t   - However, it might not handle certain corner cases like all elements being the same value efficiently.\n",
      "\t\n",
      "\t### Recommendations:\n",
      "\t\n",
      "\t1. **In-Place Partitioning**:\n",
      "\t   - Implement an in-place partitioning strategy to reduce space complexity from O(n) to O(1).\n",
      "\t\n",
      "\t2. **Pivot Selection**:\n",
      "\t   - Consider using more sophisticated pivot selection strategies such as the median-of-three method to improve performance on already sorted or nearly sorted data.\n",
      "\t\n",
      "\t3. **Code Efficiency**:\n",
      "\t   - Use list comprehensions for partitioning if possible, but ensure they are efficient and readable.\n",
      "\t   - Avoid creating unnecessary lists (e.g., `middle` list can be combined with the base case check).\n",
      "\t\n",
      "\t4. **Comments**:\n",
      "\t   - Add comments to explain complex parts of the code, such as the pivot selection logic and the purpose of each partition.\n",
      "\t\n",
      "\t### Conclusion:\n",
      "\t\n",
      "\tYour implementation is well-written and demonstrates good practices in Python programming. Here are a few positive comments about its strengths:\n",
      "\t\n",
      "\t- The code is easy to understand and follows PEP guidelines.\n",
      "\t- It handles edge cases effectively.\n",
      "\t- The use of clear documentation (docstrings) enhances readability.\n",
      "\t\n",
      "\tHowever, for improved efficiency and robustness, consider implementing an in-place partitioning strategy and optimizing pivot selection. Once these changes are made, your implementation will be even more effective and efficient.\n",
      "\t\n",
      "\t```python\n",
      "\t<DONE>\n",
      "\t```\n",
      "\n",
      "\u001b[34m\u001b[1m\n",
      "User:\n",
      "\u001b[0m\u001b[34m\tCertainly! Below is an optimized and well-structured Python implementation of the Quicksort algorithm:\n",
      "\t\n",
      "\t```python\n",
      "\tdef quicksort(arr):\n",
      "\t    \"\"\"\n",
      "\t    Sorts an array using the Quicksort algorithm.\n",
      "\t\n",
      "\t    Args:\n",
      "\t        arr (list): The list of elements to be sorted.\n",
      "\t\n",
      "\t    Returns:\n",
      "\t        list: The sorted list.\n",
      "\t    \"\"\"\n",
      "\t    if len(arr) <= 1:\n",
      "\t        return arr\n",
      "\t    else:\n",
      "\t        pivot = arr[len(arr) // 2]\n",
      "\t        left = [x for x in arr if x < pivot]\n",
      "\t        middle = [x for x in arr if x == pivot]\n",
      "\t        right = [x for x in arr if x > pivot]\n",
      "\t        return quicksort(left) + middle + quicksort(right)\n",
      "\t\n",
      "\t# Example usage:\n",
      "\tif __name__ == \"__main__\":\n",
      "\t    array = [3, 6, 8, 10, 1, 2, 1]\n",
      "\t    sorted_array = quicksort(array)\n",
      "\t    print(\"Sorted Array:\", sorted_array)\n",
      "\t```\n",
      "\t\n",
      "\t### Explanation:\n",
      "\t\n",
      "\t1. **Base Case**: If the list has 1 or no elements, it is already sorted, so we return it as is.\n",
      "\t2. **Pivot Selection**: We select a pivot element from the array. In this implementation, we choose the middle element of the array.\n",
      "\t3. **Partitioning**: We create three lists:\n",
      "\t   - `left`: All elements less than the pivot.\n",
      "\t   - `middle`: All elements equal to the pivot.\n",
      "\t   - `right`: All elements greater than the pivot.\n",
      "\t4. **Recursive Sorting**: We recursively apply the same logic to the `left` and `right` lists and concatenate the results with the `middle` list.\n",
      "\t\n",
      "\tThis implementation is straightforward and easy to understand, making it suitable for educational purposes as well as simple use cases. For large datasets or performance-critical applications, further optimizations such as in-place partitioning and choosing better pivot strategies can be implemented.\n",
      "\n"
     ]
    }
   ],
   "source": [
    "a, b = user_query(\"Generate a python implementation of the quicksort algorithm\")"
   ]
  }
 ],
 "metadata": {
  "kernelspec": {
   "display_name": "agentic_workflow",
   "language": "python",
   "name": "python3"
  },
  "language_info": {
   "codemirror_mode": {
    "name": "ipython",
    "version": 3
   },
   "file_extension": ".py",
   "mimetype": "text/x-python",
   "name": "python",
   "nbconvert_exporter": "python",
   "pygments_lexer": "ipython3",
   "version": "3.12.3"
  }
 },
 "nbformat": 4,
 "nbformat_minor": 2
}
