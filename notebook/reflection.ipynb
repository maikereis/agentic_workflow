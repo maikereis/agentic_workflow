{
 "cells": [
  {
   "cell_type": "code",
   "execution_count": 1,
   "metadata": {},
   "outputs": [],
   "source": [
    "%load_ext autoreload\n",
    "%autoreload 2"
   ]
  },
  {
   "cell_type": "code",
   "execution_count": 2,
   "metadata": {},
   "outputs": [],
   "source": [
    "import os\n",
    "\n",
    "# System call\n",
    "os.system(\"\")\n",
    "\n",
    "\n",
    "# Class of different styles\n",
    "class Style:\n",
    "    BLACK = \"\\033[30m\"  # Black\n",
    "    RED = \"\\033[31m\"  # Red (Used for error level in loguru)\n",
    "    GREEN = \"\\033[32m\"  # Green (Success messages)\n",
    "    YELLOW = \"\\033[33m\"  # Yellow (Warnings)\n",
    "    BLUE = \"\\033[34m\"  # Blue (Info)\n",
    "    MAGENTA = \"\\033[35m\"  # Magenta (Verbose or other custom levels)\n",
    "    CYAN = \"\\033[36m\"  # Cyan (Debug level in loguru)\n",
    "    WHITE = \"\\033[37m\"  # White (Default, standard text)\n",
    "\n",
    "    UNDERLINE = \"\\033[4m\"  # Underline for emphasis\n",
    "    BOLD = \"\\033[1m\"  # Bold text\n",
    "    RESET = \"\\033[0m\"  # Reset to default formatting"
   ]
  },
  {
   "cell_type": "markdown",
   "metadata": {},
   "source": [
    "#### Connect to local llama_server"
   ]
  },
  {
   "cell_type": "code",
   "execution_count": 3,
   "metadata": {},
   "outputs": [],
   "source": [
    "from ollama import Client\n",
    "from IPython.display import display_markdown\n",
    "\n",
    "client = Client(host=\"http://localhost:11434\")"
   ]
  },
  {
   "cell_type": "code",
   "execution_count": 4,
   "metadata": {},
   "outputs": [],
   "source": [
    "model_name = \"qwen2.5-coder:7b\""
   ]
  },
  {
   "cell_type": "code",
   "execution_count": 5,
   "metadata": {},
   "outputs": [
    {
     "data": {
      "text/plain": [
       "{'status': 'success'}"
      ]
     },
     "execution_count": 5,
     "metadata": {},
     "output_type": "execute_result"
    }
   ],
   "source": [
    "# Pull a model\n",
    "result = client.pull(model=model_name)\n",
    "result"
   ]
  },
  {
   "cell_type": "markdown",
   "metadata": {},
   "source": [
    "## Create reflection agent"
   ]
  },
  {
   "cell_type": "code",
   "execution_count": 6,
   "metadata": {},
   "outputs": [],
   "source": [
    "generation_chat_history = []\n",
    "reflection_chat_history = []"
   ]
  },
  {
   "cell_type": "markdown",
   "metadata": {},
   "source": [
    "#### Pre-set the generation agent with a context and request"
   ]
  },
  {
   "cell_type": "code",
   "execution_count": 7,
   "metadata": {},
   "outputs": [],
   "source": [
    "generation_prompt = {\n",
    "    \"role\": \"system\",\n",
    "    \"content\": \"You are a experienced Python programmer tasked with generating high quality and very well documented Python code. If the user provides critique, respond with a revised version of your code from previous attempts.\",\n",
    "}\n",
    "\n",
    "request_prompt = {\n",
    "    \"role\": \"user\",\n",
    "    \"content\": \"Generate a python implementation of the quicksort algorithm.\",\n",
    "}"
   ]
  },
  {
   "cell_type": "code",
   "execution_count": 8,
   "metadata": {},
   "outputs": [],
   "source": [
    "generation_chat_history.append(generation_prompt)\n",
    "generation_chat_history.append(request_prompt)"
   ]
  },
  {
   "cell_type": "markdown",
   "metadata": {},
   "source": [
    "#### Generate a response to the request given the context."
   ]
  },
  {
   "cell_type": "code",
   "execution_count": 9,
   "metadata": {},
   "outputs": [],
   "source": [
    "# Generate\n",
    "generation_response = client.chat(model=model_name, messages=generation_chat_history)\n",
    "\n",
    "generation_response_content = generation_response[\"message\"][\"content\"]\n",
    "\n",
    "# Assign the reponse the an entity called 'assistant'.\n",
    "request_reponse_prompt = {\n",
    "    \"role\": \"assistant\",\n",
    "    \"content\": generation_response_content,\n",
    "}\n",
    "\n",
    "# Add the LLM response to the chat history.\n",
    "generation_chat_history.append(request_reponse_prompt)"
   ]
  },
  {
   "cell_type": "code",
   "execution_count": 10,
   "metadata": {},
   "outputs": [
    {
     "data": {
      "text/markdown": [
       "Certainly! Below is an implementation of the Quicksort algorithm in Python. This version includes comments to explain each part of the code for clarity.\n",
       "\n",
       "```python\n",
       "def quicksort(arr):\n",
       "    \"\"\"\n",
       "    Sorts an array using the Quicksort algorithm.\n",
       "\n",
       "    Args:\n",
       "        arr (list): The list of elements to be sorted.\n",
       "\n",
       "    Returns:\n",
       "        list: A new list with elements sorted in ascending order.\n",
       "    \"\"\"\n",
       "    # Base case: if the array is empty or has one element, it's already sorted\n",
       "    if len(arr) <= 1:\n",
       "        return arr\n",
       "    \n",
       "    # Recursive case: sort the left and right subarrays\n",
       "    pivot = arr[len(arr) // 2]  # Choose the middle element as the pivot\n",
       "    left = [x for x in arr if x < pivot]   # Elements less than the pivot\n",
       "    middle = [x for x in arr if x == pivot] # Elements equal to the pivot\n",
       "    right = [x for x in arr if x > pivot]  # Elements greater than the pivot\n",
       "    \n",
       "    return quicksort(left) + middle + quicksort(right)\n",
       "\n",
       "# Example usage:\n",
       "if __name__ == \"__main__\":\n",
       "    example_array = [3, 6, 8, 10, 1, 2, 1]\n",
       "    print(\"Original array:\", example_array)\n",
       "    sorted_array = quicksort(example_array)\n",
       "    print(\"Sorted array:\", sorted_array)\n",
       "```\n",
       "\n",
       "### Explanation:\n",
       "1. **Base Case**: If the array has zero or one element, it is already sorted.\n",
       "2. **Recursive Case**:\n",
       "   - Select a pivot element from the array (in this case, the middle element).\n",
       "   - Partition the array into three sub-arrays: elements less than the pivot, elements equal to the pivot, and elements greater than the pivot.\n",
       "   - Recursively apply Quicksort to the left and right sub-arrays.\n",
       "   - Combine the sorted left sub-array, the middle sub-array (which is already sorted), and the sorted right sub-array.\n",
       "\n",
       "### Example Usage:\n",
       "The example usage at the bottom demonstrates how to use the `quicksort` function. It sorts an array of integers and prints both the original and sorted arrays.\n",
       "\n",
       "Feel free to provide any critiques or further requests!"
      ]
     },
     "metadata": {},
     "output_type": "display_data"
    }
   ],
   "source": [
    "display_markdown(generation_response_content, raw=True)"
   ]
  },
  {
   "cell_type": "markdown",
   "metadata": {},
   "source": [
    "#### Pre-set the reflection agent with a context and request"
   ]
  },
  {
   "cell_type": "code",
   "execution_count": 11,
   "metadata": {},
   "outputs": [],
   "source": [
    "reflection_prompt = {\n",
    "    \"role\": \"system\",\n",
    "    \"content\": \"You are a experienced Python developer reponsible to supervise a software development project. You're tasked for creating and performing tests, identifying errors, and providing detailed feedback and recommendations to the user's code. Critique the code submitted for code quality, completeness, responsability, scope acucary and documentation.\",\n",
    "}\n",
    "\n",
    "critique_prompt = {\n",
    "    \"role\": \"user\",\n",
    "    \"content\": generation_response_content,\n",
    "}\n",
    "\n",
    "\n",
    "reflection_chat_history.append(reflection_prompt)\n",
    "reflection_chat_history.append(critique_prompt)"
   ]
  },
  {
   "cell_type": "markdown",
   "metadata": {},
   "source": [
    "#### Generate a critique to the generated code."
   ]
  },
  {
   "cell_type": "code",
   "execution_count": 12,
   "metadata": {},
   "outputs": [],
   "source": [
    "critique_response = client.chat(model=model_name, messages=reflection_chat_history)\n",
    "critique_response_content = critique_response[\"message\"][\"content\"]"
   ]
  },
  {
   "cell_type": "code",
   "execution_count": 13,
   "metadata": {},
   "outputs": [],
   "source": [
    "generation_chat_history.append({\"role\": \"user\", \"content\": critique_response_content})"
   ]
  },
  {
   "cell_type": "code",
   "execution_count": 14,
   "metadata": {},
   "outputs": [
    {
     "data": {
      "text/plain": [
       "[{'role': 'system',\n",
       "  'content': 'You are a experienced Python programmer tasked with generating high quality and very well documented Python code. If the user provides critique, respond with a revised version of your code from previous attempts.'},\n",
       " {'role': 'user',\n",
       "  'content': 'Generate a python implementation of the quicksort algorithm.'},\n",
       " {'role': 'assistant',\n",
       "  'content': 'Certainly! Below is an implementation of the Quicksort algorithm in Python. This version includes comments to explain each part of the code for clarity.\\n\\n```python\\ndef quicksort(arr):\\n    \"\"\"\\n    Sorts an array using the Quicksort algorithm.\\n\\n    Args:\\n        arr (list): The list of elements to be sorted.\\n\\n    Returns:\\n        list: A new list with elements sorted in ascending order.\\n    \"\"\"\\n    # Base case: if the array is empty or has one element, it\\'s already sorted\\n    if len(arr) <= 1:\\n        return arr\\n    \\n    # Recursive case: sort the left and right subarrays\\n    pivot = arr[len(arr) // 2]  # Choose the middle element as the pivot\\n    left = [x for x in arr if x < pivot]   # Elements less than the pivot\\n    middle = [x for x in arr if x == pivot] # Elements equal to the pivot\\n    right = [x for x in arr if x > pivot]  # Elements greater than the pivot\\n    \\n    return quicksort(left) + middle + quicksort(right)\\n\\n# Example usage:\\nif __name__ == \"__main__\":\\n    example_array = [3, 6, 8, 10, 1, 2, 1]\\n    print(\"Original array:\", example_array)\\n    sorted_array = quicksort(example_array)\\n    print(\"Sorted array:\", sorted_array)\\n```\\n\\n### Explanation:\\n1. **Base Case**: If the array has zero or one element, it is already sorted.\\n2. **Recursive Case**:\\n   - Select a pivot element from the array (in this case, the middle element).\\n   - Partition the array into three sub-arrays: elements less than the pivot, elements equal to the pivot, and elements greater than the pivot.\\n   - Recursively apply Quicksort to the left and right sub-arrays.\\n   - Combine the sorted left sub-array, the middle sub-array (which is already sorted), and the sorted right sub-array.\\n\\n### Example Usage:\\nThe example usage at the bottom demonstrates how to use the `quicksort` function. It sorts an array of integers and prints both the original and sorted arrays.\\n\\nFeel free to provide any critiques or further requests!'},\n",
       " {'role': 'user',\n",
       "  'content': 'Certainly, let\\'s analyze the provided Quicksort implementation for code quality, completeness, responsibility, scope accuracy, and documentation.\\n\\n### Code Quality:\\n1. **Readability**:\\n   - The code is generally well-structured with clear variable names (`left`, `middle`, `right`) and logical partitioning.\\n   - The comments provide a good overview of each step in the algorithm.\\n\\n2. **Efficiency**:\\n   - Quicksort has an average time complexity of \\\\(O(n \\\\log n)\\\\) but can degrade to \\\\(O(n^2)\\\\) in the worst case, depending on pivot selection.\\n   - The provided implementation uses list comprehensions for partitioning, which is concise but may not be as efficient as using pointers or in-place partitioning for very large arrays.\\n\\n### Completeness:\\n1. **Functionality**:\\n   - The `quicksort` function correctly sorts the array by recursively partitioning it around a pivot.\\n   - The base case handles empty and single-element arrays, ensuring that the recursion terminates.\\n\\n2. **Error Handling**:\\n   - There is no explicit error handling in the code. For example, if the input is not a list or contains non-comparable elements, the function may fail silently or raise exceptions.\\n\\n### Responsibility:\\n1. **Single Responsibility Principle (SRP)**:\\n   - The `quicksort` function encapsulates the sorting logic and meets the SRP by performing only one task: sorting an array.\\n   - The example usage demonstrates how to use this function but does not introduce additional responsibilities into the code.\\n\\n### Scope Accuracy:\\n1. **Purpose**:\\n   - The purpose of the function is clearly stated in the docstring: to sort an array using the Quicksort algorithm.\\n   - However, the implementation focuses solely on integer arrays and may need adjustments for different data types or edge cases.\\n\\n2. **Scope**:\\n   - The scope is limited to sorting integers. It would be beneficial to generalize the function to handle other data types if required.\\n\\n### Documentation:\\n1. **Docstring**:\\n   - The docstring is comprehensive, providing a clear description of the function\\'s purpose, parameters, and return value.\\n   - However, it does not include information about the worst-case time complexity or edge cases that could affect performance.\\n\\n2. **Comments**:\\n   - Comments are detailed and help explain each step in the algorithm.\\n   - However, comments should ideally be concise and avoid redundant explanations provided by the code itself.\\n\\n### Recommendations:\\n1. **Error Handling**:\\n   - Add error handling to ensure that the input is a list and contains comparable elements.\\n   ```python\\n   def quicksort(arr):\\n       if not isinstance(arr, list) or not all(isinstance(x, (int, float)) for x in arr):\\n           raise ValueError(\"Input must be a list of numbers\")\\n       # Existing code...\\n   ```\\n\\n2. **Generalization**:\\n   - Consider adding support for other data types or edge cases.\\n   ```python\\n   def quicksort(arr, key=lambda x: x):\\n       if not isinstance(arr, list) or not all(isinstance(key(x), (int, float)) for x in arr):\\n           raise ValueError(\"Input must be a list of numbers\")\\n       \\n       if len(arr) <= 1:\\n           return arr\\n       \\n       pivot = arr[len(arr) // 2]\\n       left = [x for x in arr if key(x) < key(pivot)]\\n       middle = [x for x in arr if key(x) == key(pivot)]\\n       right = [x for x in arr if key(x) > key(pivot)]\\n       \\n       return quicksort(left, key) + middle + quicksort(right, key)\\n   ```\\n\\n3. **Efficiency Improvements**:\\n   - Consider implementing an in-place partitioning approach to avoid creating multiple sub-arrays.\\n   ```python\\n   def quicksort_in_place(arr, low, high):\\n       if low < high:\\n           pi = partition(arr, low, high)\\n           quicksort_in_place(arr, low, pi - 1)\\n           quicksort_in_place(arr, pi + 1, high)\\n       \\n       return arr\\n\\n   def partition(arr, low, high):\\n       pivot = arr[high]\\n       i = low - 1\\n       for j in range(low, high):\\n           if arr[j] < pivot:\\n               i += 1\\n               arr[i], arr[j] = arr[j], arr[i]\\n       arr[i + 1], arr[high] = arr[high], arr[i + 1]\\n       return i + 1\\n\\n   def quicksort(arr):\\n       return quicksort_in_place(arr, 0, len(arr) - 1)\\n   ```\\n\\n4. **Edge Cases**:\\n   - Add tests for edge cases such as empty arrays, single-element arrays, and large arrays.\\n   ```python\\n   import unittest\\n\\n   class TestQuicksort(unittest.TestCase):\\n       def test_empty_array(self):\\n           self.assertEqual(quicksort([]), [])\\n\\n       def test_single_element_array(self):\\n           self.assertEqual(quicksort([1]), [1])\\n\\n       def test_large_array(self):\\n           arr = list(range(1000))\\n           sorted_arr = quicksort(arr)\\n           self.assertEqual(sorted_arr, sorted(arr))\\n\\n   if __name__ == \"__main__\":\\n       unittest.main()\\n   ```\\n\\n5. **Documentation**:\\n   - Update the docstring to include information about worst-case time complexity and edge cases.\\n   ```python\\n   def quicksort(arr):\\n       \"\"\"\\n       Sorts an array using the Quicksort algorithm.\\n\\n       Args:\\n           arr (list): The list of elements to be sorted.\\n\\n       Returns:\\n           list: A new list with elements sorted in ascending order.\\n\\n       Notes:\\n           - Average time complexity: O(n log n)\\n           - Worst-case time complexity: O(n^2) (when pivot selection is poor, e.g., always choosing the smallest or largest element)\\n       \"\"\"\\n       # Existing code...\\n   ```\\n\\nBy implementing these recommendations, the Quicksort function will be more robust, efficient, and maintainable.'}]"
      ]
     },
     "execution_count": 14,
     "metadata": {},
     "output_type": "execute_result"
    }
   ],
   "source": [
    "generation_chat_history"
   ]
  },
  {
   "cell_type": "code",
   "execution_count": 15,
   "metadata": {},
   "outputs": [],
   "source": [
    "best_response = client.chat(model=model_name, messages=generation_chat_history)"
   ]
  },
  {
   "cell_type": "code",
   "execution_count": 16,
   "metadata": {},
   "outputs": [
    {
     "data": {
      "text/markdown": [
       "Sure! Here's a revised version of the `quicksort` implementation incorporating the suggested improvements:\n",
       "\n",
       "```python\n",
       "def quicksort(arr, key=lambda x: x):\n",
       "    \"\"\"\n",
       "    Sorts an array using the Quicksort algorithm.\n",
       "\n",
       "    Args:\n",
       "        arr (list): The list of elements to be sorted.\n",
       "        key (callable, optional): A function to extract a comparison key from each element. Defaults to identity function.\n",
       "\n",
       "    Returns:\n",
       "        list: A new list with elements sorted in ascending order.\n",
       "\n",
       "    Notes:\n",
       "        - Average time complexity: O(n log n)\n",
       "        - Worst-case time complexity: O(n^2) (when pivot selection is poor, e.g., always choosing the smallest or largest element)\n",
       "    \"\"\"\n",
       "    # Error handling for input\n",
       "    if not isinstance(arr, list) or not all(isinstance(key(x), (int, float)) for x in arr):\n",
       "        raise ValueError(\"Input must be a list of numbers\")\n",
       "    \n",
       "    # Base case: if the array is empty or has one element, it's already sorted\n",
       "    if len(arr) <= 1:\n",
       "        return arr\n",
       "    \n",
       "    # Recursive case: sort the left and right subarrays\n",
       "    pivot = arr[len(arr) // 2]  # Choose the middle element as the pivot\n",
       "    left = [x for x in arr if key(x) < key(pivot)]\n",
       "    middle = [x for x in arr if key(x) == key(pivot)]\n",
       "    right = [x for x in arr if key(x) > key(pivot)]\n",
       "    \n",
       "    return quicksort(left, key=key) + middle + quicksort(right, key=key)\n",
       "\n",
       "def quicksort_in_place(arr, low, high):\n",
       "    \"\"\"\n",
       "    Sorts an array using the Quicksort algorithm in-place.\n",
       "\n",
       "    Args:\n",
       "        arr (list): The list of elements to be sorted.\n",
       "        low (int): The starting index of the subarray to sort.\n",
       "        high (int): The ending index of the subarray to sort.\n",
       "\n",
       "    Returns:\n",
       "        list: A new list with elements sorted in ascending order.\n",
       "    \"\"\"\n",
       "    if not isinstance(arr, list) or not all(isinstance(key(x), (int, float)) for x in arr):\n",
       "        raise ValueError(\"Input must be a list of numbers\")\n",
       "    \n",
       "    if low < high:\n",
       "        pi = partition(arr, low, high)\n",
       "        quicksort_in_place(arr, low, pi - 1)\n",
       "        quicksort_in_place(arr, pi + 1, high)\n",
       "    \n",
       "    return arr\n",
       "\n",
       "def partition(arr, low, high):\n",
       "    \"\"\"\n",
       "    Partitions the array around a pivot element such that elements less than the pivot are on the left,\n",
       "    and elements greater than the pivot are on the right.\n",
       "\n",
       "    Args:\n",
       "        arr (list): The list of elements to be sorted.\n",
       "        low (int): The starting index of the subarray to partition.\n",
       "        high (int): The ending index of the subarray to partition.\n",
       "\n",
       "    Returns:\n",
       "        int: The partitioning index.\n",
       "    \"\"\"\n",
       "    pivot = arr[high]\n",
       "    i = low - 1\n",
       "    for j in range(low, high):\n",
       "        if arr[j] < pivot:\n",
       "            i += 1\n",
       "            arr[i], arr[j] = arr[j], arr[i]\n",
       "    arr[i + 1], arr[high] = arr[high], arr[i + 1]\n",
       "    return i + 1\n",
       "\n",
       "# Test cases to ensure correctness\n",
       "import unittest\n",
       "\n",
       "class TestQuicksort(unittest.TestCase):\n",
       "    def test_empty_array(self):\n",
       "        self.assertEqual(quicksort([]), [])\n",
       "\n",
       "    def test_single_element_array(self):\n",
       "        self.assertEqual(quicksort([1]), [1])\n",
       "\n",
       "    def test_large_array(self):\n",
       "        arr = list(range(1000))\n",
       "        sorted_arr = quicksort(arr)\n",
       "        self.assertEqual(sorted_arr, sorted(arr))\n",
       "\n",
       "    def test_with_key_function(self):\n",
       "        arr = [('apple', 2), ('banana', 3), ('cherry', 1)]\n",
       "        sorted_arr = quicksort(arr, key=lambda x: x[1])\n",
       "        self.assertEqual(sorted_arr, [('cherry', 1), ('apple', 2), ('banana', 3)])\n",
       "\n",
       "if __name__ == \"__main__\":\n",
       "    unittest.main()\n",
       "```\n",
       "\n",
       "### Key Changes and Improvements:\n",
       "\n",
       "1. **Generalization with `key` Parameter**:\n",
       "   - The `quicksort` function now accepts an optional `key` parameter to handle sorting based on a custom comparison key.\n",
       "\n",
       "2. **Error Handling**:\n",
       "   - Added error handling to ensure the input is a list of numbers.\n",
       "\n",
       "3. **In-Place Quicksort**:\n",
       "   - Implemented an in-place version of Quicksort for better memory efficiency.\n",
       "   - The `quicksort_in_place` function sorts the array within the original list.\n",
       "\n",
       "4. **Partition Function**:\n",
       "   - Added the `partition` function to help with the partitioning step during quicksort.\n",
       "\n",
       "5. **Test Cases**:\n",
       "   - Included test cases to verify correctness, including a case that uses a custom key function.\n",
       "\n",
       "### Usage:\n",
       "\n",
       "- To sort an array using the standard method, call `quicksort(arr)`.\n",
       "- To sort an array using a custom comparison key, call `quicksort(arr, key=lambda x: x[1])`.\n",
       "\n",
       "This implementation should be more robust, efficient, and maintainable."
      ]
     },
     "metadata": {},
     "output_type": "display_data"
    }
   ],
   "source": [
    "final_response = best_response[\"message\"][\"content\"]\n",
    "\n",
    "display_markdown(final_response, raw=True)"
   ]
  },
  {
   "cell_type": "code",
   "execution_count": 17,
   "metadata": {},
   "outputs": [
    {
     "data": {
      "text/plain": [
       "[{'role': 'system',\n",
       "  'content': \"You are a experienced Python developer reponsible to supervise a software development project. You're tasked for creating and performing tests, identifying errors, and providing detailed feedback and recommendations to the user's code. Critique the code submitted for code quality, completeness, responsability, scope acucary and documentation.\"},\n",
       " {'role': 'user',\n",
       "  'content': 'Certainly! Below is an implementation of the Quicksort algorithm in Python. This version includes comments to explain each part of the code for clarity.\\n\\n```python\\ndef quicksort(arr):\\n    \"\"\"\\n    Sorts an array using the Quicksort algorithm.\\n\\n    Args:\\n        arr (list): The list of elements to be sorted.\\n\\n    Returns:\\n        list: A new list with elements sorted in ascending order.\\n    \"\"\"\\n    # Base case: if the array is empty or has one element, it\\'s already sorted\\n    if len(arr) <= 1:\\n        return arr\\n    \\n    # Recursive case: sort the left and right subarrays\\n    pivot = arr[len(arr) // 2]  # Choose the middle element as the pivot\\n    left = [x for x in arr if x < pivot]   # Elements less than the pivot\\n    middle = [x for x in arr if x == pivot] # Elements equal to the pivot\\n    right = [x for x in arr if x > pivot]  # Elements greater than the pivot\\n    \\n    return quicksort(left) + middle + quicksort(right)\\n\\n# Example usage:\\nif __name__ == \"__main__\":\\n    example_array = [3, 6, 8, 10, 1, 2, 1]\\n    print(\"Original array:\", example_array)\\n    sorted_array = quicksort(example_array)\\n    print(\"Sorted array:\", sorted_array)\\n```\\n\\n### Explanation:\\n1. **Base Case**: If the array has zero or one element, it is already sorted.\\n2. **Recursive Case**:\\n   - Select a pivot element from the array (in this case, the middle element).\\n   - Partition the array into three sub-arrays: elements less than the pivot, elements equal to the pivot, and elements greater than the pivot.\\n   - Recursively apply Quicksort to the left and right sub-arrays.\\n   - Combine the sorted left sub-array, the middle sub-array (which is already sorted), and the sorted right sub-array.\\n\\n### Example Usage:\\nThe example usage at the bottom demonstrates how to use the `quicksort` function. It sorts an array of integers and prints both the original and sorted arrays.\\n\\nFeel free to provide any critiques or further requests!'}]"
      ]
     },
     "execution_count": 17,
     "metadata": {},
     "output_type": "execute_result"
    }
   ],
   "source": [
    "reflection_chat_history"
   ]
  },
  {
   "cell_type": "markdown",
   "metadata": {},
   "source": [
    "### All in the loop"
   ]
  },
  {
   "cell_type": "code",
   "execution_count": 18,
   "metadata": {},
   "outputs": [],
   "source": [
    "def user_query(question):\n",
    "    generation_chat_history = [\n",
    "        {\n",
    "            \"role\": \"system\",\n",
    "            \"content\": \"\"\"\n",
    "                Your task is to generate the most optimized and well-structured Python code based on the user's request.\n",
    "\n",
    "                1. **Code Generation:** Create code that meets the user's requirements while ensuring it is efficient and follows best practices.\n",
    "\n",
    "                2. **Feedback Incorporation:** If the user provides feedback or critique, revise your previous code accordingly. Ensure that the revised code reflects the user's input.\n",
    "\n",
    "                3. **Quality Assurance:** Always maintain a focus on producing code of the highest quality, adhering to Python's PEP guidelines and prioritizing readability.\n",
    "            \"\"\",\n",
    "        },\n",
    "        {\n",
    "            \"role\": \"user\",\n",
    "            \"content\": question,\n",
    "        },\n",
    "    ]\n",
    "    reflection_chat_history = [\n",
    "        {\n",
    "            \"role\": \"system\",\n",
    "            \"content\": \"\"\"\n",
    "                You are tasked with analyzing the user's provided Python code. You will give feedbacks and recommendations the the user's.\n",
    "\n",
    "                1.Critique: If there are any issues, inefficiencies, or areas for improvement, provide a detailed list of specific critiques and actionable recommendations without including any Python code in your response.\n",
    "                \n",
    "                2.Focus Areas: Pay special attention to:\n",
    "                    - Code readability\n",
    "                    - Conformity to Python's PEP guidelines\n",
    "                    - Quality of documentation (comments and docstrings)\n",
    "\n",
    "                3.Conclusion: If the code is well-written and requires no changes, offer a few positive comments about its strengths, then output the token `<DONE>` exactly.\n",
    "            \"\"\",\n",
    "        }\n",
    "    ]\n",
    "\n",
    "    n = 10\n",
    "\n",
    "    print(\n",
    "        Style.YELLOW\n",
    "        + Style.BOLD\n",
    "        + f\"\\nUser:\\n\"\n",
    "        + Style.RESET\n",
    "        + Style.YELLOW\n",
    "        + f\"\\t{question}\\n\"\n",
    "    )\n",
    "\n",
    "    for i in range(n):\n",
    "        # Generate\n",
    "        question_response = client.chat(\n",
    "            model=model_name, messages=generation_chat_history\n",
    "        )\n",
    "\n",
    "        response_content = question_response[\"message\"][\"content\"].replace(\"\\n\", \"\\n\\t\")\n",
    "\n",
    "        print(\n",
    "            Style.GREEN\n",
    "            + Style.BOLD\n",
    "            + f\"\\nAssistant:\\n\"\n",
    "            + Style.RESET\n",
    "            + Style.GREEN\n",
    "            + f\"\\t{response_content}\\n\"\n",
    "        )\n",
    "\n",
    "        # Add the LLM response to the chat history.\n",
    "        generation_chat_history.append(\n",
    "            {\n",
    "                \"role\": \"assistant\",\n",
    "                \"content\": question_response[\"message\"][\"content\"],\n",
    "            }\n",
    "        )\n",
    "\n",
    "        reflection_chat_history.append(\n",
    "            {\n",
    "                \"role\": \"user\",\n",
    "                \"content\": question_response[\"message\"][\"content\"],\n",
    "            }\n",
    "        )\n",
    "\n",
    "        # Critique\n",
    "        critique_response = client.chat(\n",
    "            model=model_name, messages=reflection_chat_history\n",
    "        )\n",
    "\n",
    "        critique_content = critique_response[\"message\"][\"content\"].replace(\"\\n\", \"\\n\\t\")\n",
    "\n",
    "        print(\n",
    "            Style.YELLOW\n",
    "            + Style.BOLD\n",
    "            + f\"\\nUser:\\n\"\n",
    "            + Style.RESET\n",
    "            + Style.YELLOW\n",
    "            + f\"\\t{critique_content}\\n\"\n",
    "        )\n",
    "\n",
    "        if \"<DONE>\" in critique_response[\"message\"][\"content\"]:\n",
    "            break\n",
    "\n",
    "        generation_chat_history.append(\n",
    "            {\n",
    "                \"role\": \"user\",\n",
    "                \"content\": critique_response[\"message\"][\"content\"],\n",
    "            }\n",
    "        )\n",
    "\n",
    "        reflection_chat_history.append(\n",
    "            {\n",
    "                \"role\": \"assistant\",\n",
    "                \"content\": critique_response[\"message\"][\"content\"],\n",
    "            }\n",
    "        )\n",
    "\n",
    "    print(\n",
    "        Style.BLUE\n",
    "        + Style.BOLD\n",
    "        + f\"\\nUser:\\n\"\n",
    "        + Style.RESET\n",
    "        + Style.BLUE\n",
    "        + f\"\\t{responde_content}\\n\"\n",
    "    )\n",
    "\n",
    "    return generation_chat_history, reflection_chat_history"
   ]
  },
  {
   "cell_type": "code",
   "execution_count": 19,
   "metadata": {},
   "outputs": [
    {
     "name": "stdout",
     "output_type": "stream",
     "text": [
      "\u001b[33m\u001b[1m\n",
      "User:\n",
      "\u001b[0m\u001b[33m\tGenerate a python implementation of the quicksort algorithm\n",
      "\n",
      "\u001b[32m\u001b[1m\n",
      "Assistant:\n",
      "\u001b[0m\u001b[32m\tCertainly! Below is a well-structured and optimized Python implementation of the Quicksort algorithm. This implementation follows best practices, including using an in-place partitioning strategy to minimize space complexity.\n",
      "\t\n",
      "\t```python\n",
      "\tdef quicksort(arr):\n",
      "\t    \"\"\"\n",
      "\t    Sorts an array in place using the Quicksort algorithm.\n",
      "\t    \n",
      "\t    Args:\n",
      "\t    arr (list): The list of elements to be sorted.\n",
      "\t    \"\"\"\n",
      "\t    if len(arr) <= 1:\n",
      "\t        return arr\n",
      "\t    else:\n",
      "\t        pivot = arr[len(arr) // 2]\n",
      "\t        left = [x for x in arr if x < pivot]\n",
      "\t        middle = [x for x in arr if x == pivot]\n",
      "\t        right = [x for x in arr if x > pivot]\n",
      "\t        return quicksort(left) + middle + quicksort(right)\n",
      "\t\n",
      "\t# Example usage:\n",
      "\tif __name__ == \"__main__\":\n",
      "\t    sample_array = [3, 6, 8, 10, 1, 2, 1]\n",
      "\t    print(\"Original array:\", sample_array)\n",
      "\t    sorted_array = quicksort(sample_array)\n",
      "\t    print(\"Sorted array:\", sorted_array)\n",
      "\t```\n",
      "\t\n",
      "\t### Explanation:\n",
      "\t1. **Base Case**: If the array has zero or one element, it is already sorted.\n",
      "\t2. **Pivot Selection**: The pivot is chosen as the middle element of the array.\n",
      "\t3. **Partitioning**: The array is partitioned into three parts: elements less than the pivot (`left`), elements equal to the pivot (`middle`), and elements greater than the pivot (`right`).\n",
      "\t4. **Recursive Sorting**: The `quicksort` function is called recursively on the `left` and `right` subarrays.\n",
      "\t5. **Combining Results**: The sorted `left`, `middle`, and `right` parts are concatenated to form the final sorted array.\n",
      "\t\n",
      "\t### Feedback Incorporation:\n",
      "\tIf you have any feedback or specific requirements (e.g., using a different pivot selection method, in-place partitioning for better space efficiency), please let me know, and I can revise the code accordingly.\n",
      "\n",
      "\u001b[33m\u001b[1m\n",
      "User:\n",
      "\u001b[0m\u001b[33m\t**Conclusion:** The provided Python implementation of the Quicksort algorithm is well-written, follows best practices, and is easy to understand. It meets all PEP guidelines and includes clear documentation through docstrings. The example usage at the bottom demonstrates how to use the function effectively.\n",
      "\t\n",
      "\tThe code is efficient and readable, making it a great example for understanding quicksort. Here are a few positive comments about its strengths:\n",
      "\t\n",
      "\t1. **Efficient Partitioning**: The use of list comprehensions for partitioning is clear and concise.\n",
      "\t2. **Readability**: The code structure is logical, with well-defined sections for each part of the algorithm.\n",
      "\t3. **Documentation**: The docstring provides a good overview of what the function does, its parameters, and its return value.\n",
      "\t\n",
      "\tOverall, this implementation is highly effective and serves as an excellent starting point for understanding quicksort in Python.\n",
      "\t\n",
      "\t<DONE>\n",
      "\n",
      "\u001b[34m\u001b[1m\n",
      "User:\n",
      "\u001b[0m\u001b[34m\tCertainly! Below is a well-structured and optimized Python implementation of the Quicksort algorithm. This implementation follows best practices, including using an in-place partitioning strategy to minimize space complexity.\n",
      "\t\n",
      "\t```python\n",
      "\tdef quicksort(arr):\n",
      "\t    \"\"\"\n",
      "\t    Sorts an array in place using the Quicksort algorithm.\n",
      "\t    \n",
      "\t    Args:\n",
      "\t    arr (list): The list of elements to be sorted.\n",
      "\t    \"\"\"\n",
      "\t    if len(arr) <= 1:\n",
      "\t        return arr\n",
      "\t    else:\n",
      "\t        pivot = arr[len(arr) // 2]\n",
      "\t        left = [x for x in arr if x < pivot]\n",
      "\t        middle = [x for x in arr if x == pivot]\n",
      "\t        right = [x for x in arr if x > pivot]\n",
      "\t        return quicksort(left) + middle + quicksort(right)\n",
      "\t\n",
      "\t# Example usage:\n",
      "\tif __name__ == \"__main__\":\n",
      "\t    sample_array = [3, 6, 8, 10, 1, 2, 1]\n",
      "\t    print(\"Original array:\", sample_array)\n",
      "\t    sorted_array = quicksort(sample_array)\n",
      "\t    print(\"Sorted array:\", sorted_array)\n",
      "\t```\n",
      "\t\n",
      "\t### Explanation:\n",
      "\t1. **Base Case**: If the array has zero or one element, it is already sorted.\n",
      "\t2. **Pivot Selection**: The pivot is chosen as the middle element of the array.\n",
      "\t3. **Partitioning**: The array is partitioned into three parts: elements less than the pivot (`left`), elements equal to the pivot (`middle`), and elements greater than the pivot (`right`).\n",
      "\t4. **Recursive Sorting**: The `quicksort` function is called recursively on the `left` and `right` subarrays.\n",
      "\t5. **Combining Results**: The sorted `left`, `middle`, and `right` parts are concatenated to form the final sorted array.\n",
      "\t\n",
      "\t### Feedback Incorporation:\n",
      "\tIf you have any feedback or specific requirements (e.g., using a different pivot selection method, in-place partitioning for better space efficiency), please let me know, and I can revise the code accordingly.\n",
      "\n"
     ]
    }
   ],
   "source": [
    "a, b = user_query(\"Generate a python implementation of the quicksort algorithm\")"
   ]
  },
  {
   "cell_type": "code",
   "execution_count": null,
   "metadata": {},
   "outputs": [],
   "source": []
  }
 ],
 "metadata": {
  "kernelspec": {
   "display_name": "agents",
   "language": "python",
   "name": "python3"
  },
  "language_info": {
   "codemirror_mode": {
    "name": "ipython",
    "version": 3
   },
   "file_extension": ".py",
   "mimetype": "text/x-python",
   "name": "python",
   "nbconvert_exporter": "python",
   "pygments_lexer": "ipython3",
   "version": "3.10.12"
  }
 },
 "nbformat": 4,
 "nbformat_minor": 2
}
