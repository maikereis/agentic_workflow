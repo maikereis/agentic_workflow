{
 "cells": [
  {
   "cell_type": "code",
   "execution_count": 467,
   "metadata": {},
   "outputs": [
    {
     "name": "stdout",
     "output_type": "stream",
     "text": [
      "The autoreload extension is already loaded. To reload it, use:\n",
      "  %reload_ext autoreload\n"
     ]
    }
   ],
   "source": [
    "%load_ext autoreload\n",
    "%autoreload 2"
   ]
  },
  {
   "cell_type": "code",
   "execution_count": 468,
   "metadata": {},
   "outputs": [],
   "source": [
    "import json\n",
    "from inspect import signature"
   ]
  },
  {
   "cell_type": "code",
   "execution_count": 490,
   "metadata": {},
   "outputs": [
    {
     "data": {
      "text/plain": [
       "{'status': 'success'}"
      ]
     },
     "execution_count": 490,
     "metadata": {},
     "output_type": "execute_result"
    }
   ],
   "source": [
    "from ollama import Client\n",
    "from IPython.display import display_markdown, display_latex\n",
    "\n",
    "client = Client(host=\"http://localhost:11434\")\n",
    "\n",
    "model_name = \"qwen2.5:7b\"\n",
    "\n",
    "# Pull a model\n",
    "result = client.pull(model=model_name)\n",
    "result"
   ]
  },
  {
   "cell_type": "markdown",
   "metadata": {},
   "source": [
    "### Define Tools"
   ]
  },
  {
   "cell_type": "code",
   "execution_count": 470,
   "metadata": {},
   "outputs": [],
   "source": [
    "def summation(x: int, y: int = 0) -> int:\n",
    "    \"\"\"\n",
    "    Add two integers.\n",
    "\n",
    "    Parameters\n",
    "    ----------\n",
    "    x : int\n",
    "        The first integer to be added.\n",
    "    y : int, optional\n",
    "        The second integer to be added (default is 0).\n",
    "\n",
    "    Returns\n",
    "    -------\n",
    "    int\n",
    "        The sum of `x` and `y`.\n",
    "    \"\"\"\n",
    "    return x + y\n",
    "    \n",
    "\n",
    "def multiplication(x: int, y: int) -> int:\n",
    "    \"\"\"\n",
    "    Multiply two integers.\n",
    "\n",
    "    Parameters\n",
    "    ----------\n",
    "    x : int\n",
    "        The first integer to be multiplied.\n",
    "    y : int\n",
    "        The second integer to be multiplied.\n",
    "\n",
    "    Returns\n",
    "    -------\n",
    "    int\n",
    "        The product of `x` and `y`.\n",
    "    \"\"\"\n",
    "    return x * y\n"
   ]
  },
  {
   "cell_type": "code",
   "execution_count": 471,
   "metadata": {},
   "outputs": [],
   "source": [
    "import xml.etree.ElementTree as ET\n",
    "import json\n",
    "\n",
    "def parse_tool_call(tool_call_str: str) -> dict:\n",
    "    \"\"\"\n",
    "    Parse a tool_call XML string and return the corresponding dictionary.\n",
    "\n",
    "    Parameters\n",
    "    ----------\n",
    "    tool_call_str : str\n",
    "        A string containing the XML with the tool call.\n",
    "\n",
    "    Returns\n",
    "    -------\n",
    "    dict\n",
    "        A dictionary containing the parsed JSON from the tool_call tag.\n",
    "    \"\"\"\n",
    "    # Parse a string XML\n",
    "    root = ET.fromstring(tool_call_str)\n",
    "\n",
    "    # Extrair o conteúdo da tag <tool_call>\n",
    "    json_content = root.text.strip()\n",
    "\n",
    "    # Converter o conteúdo JSON para um dicionário Python\n",
    "    tool_call_dict = json.loads(json_content)\n",
    "\n",
    "    return tool_call_dict\n"
   ]
  },
  {
   "cell_type": "code",
   "execution_count": 472,
   "metadata": {},
   "outputs": [
    {
     "data": {
      "text/plain": [
       "'{\\n    \"name\": \"multiplication\",\\n    \"description\": \"\\\\n    Multiply two integers.\\\\n\\\\n    Parameters\\\\n    ----------\\\\n    x : int\\\\n        The first integer to be multiplied.\\\\n    y : int\\\\n        The second integer to be multiplied.\\\\n\\\\n    Returns\\\\n    -------\\\\n    int\\\\n        The product of `x` and `y`.\\\\n    \",\\n    \"parameters\": {\\n        \"properties\": {\\n            \"x\": {\\n                \"type\": \"int\"\\n            },\\n            \"y\": {\\n                \"type\": \"int\"\\n            }\\n        }\\n    }\\n}'"
      ]
     },
     "execution_count": 472,
     "metadata": {},
     "output_type": "execute_result"
    }
   ],
   "source": [
    "get_json_schema(multiplication)"
   ]
  },
  {
   "cell_type": "code",
   "execution_count": 473,
   "metadata": {},
   "outputs": [],
   "source": [
    "import json\n",
    "from inspect import signature\n",
    "\n",
    "class ToolRegistry:\n",
    "    \"\"\"\n",
    "    A class to manage and register available tools (functions).\n",
    "    \n",
    "    This registry allows the user to register tools, retrieve them, and generate\n",
    "    JSON schemas for each tool's function signature.\n",
    "    \"\"\"\n",
    "\n",
    "    def __init__(self):\n",
    "        \"\"\"\n",
    "        Initialize a ToolRegistry instance.\n",
    "        \n",
    "        Attributes\n",
    "        ----------\n",
    "        tools : dict\n",
    "            A dictionary that stores tools with their names as keys and functions as values.\n",
    "        \"\"\"\n",
    "        self.tools = {}\n",
    "\n",
    "    def register(self, name: str, func):\n",
    "        \"\"\"\n",
    "        Register a new function as a tool.\n",
    "        \n",
    "        Parameters\n",
    "        ----------\n",
    "        name : str\n",
    "            The name of the tool to be registered.\n",
    "        func : function\n",
    "            The function to register as a tool.\n",
    "        \n",
    "        Raises\n",
    "        ------\n",
    "        TypeError\n",
    "            If `func` is not callable.\n",
    "        \"\"\"\n",
    "        if not callable(func):\n",
    "            raise TypeError(f\"The tool '{name}' must be a callable function.\")\n",
    "        self.tools[name] = func\n",
    "\n",
    "    def get_function(self, name: str):\n",
    "        \"\"\"\n",
    "        Get a registered function by its name.\n",
    "        \n",
    "        Parameters\n",
    "        ----------\n",
    "        name : str\n",
    "            The name of the tool (function) to retrieve.\n",
    "        \n",
    "        Returns\n",
    "        -------\n",
    "        function or None\n",
    "            The function registered under the given name, or None if not found.\n",
    "        \"\"\"\n",
    "        return self.tools.get(name)\n",
    "\n",
    "    def get_json_schema(self, func):\n",
    "        \"\"\"\n",
    "        Generate the JSON schema for a given function.\n",
    "        \n",
    "        Parameters\n",
    "        ----------\n",
    "        func : function\n",
    "            The function for which to generate the JSON schema.\n",
    "        \n",
    "        Returns\n",
    "        -------\n",
    "        str\n",
    "            A JSON-formatted string representing the function's signature schema.\n",
    "        \n",
    "        Raises\n",
    "        ------\n",
    "        ValueError\n",
    "            If the provided object is not a callable function.\n",
    "        \"\"\"\n",
    "        if not callable(func):\n",
    "            raise ValueError(\"The argument must be a callable function.\")\n",
    "        \n",
    "        sigs = signature(func)\n",
    "        desc = func.__doc__ or \"No description provided.\"\n",
    "        name = func.__name__\n",
    "\n",
    "        schema = {\n",
    "            \"name\": name,\n",
    "            \"description\": desc,\n",
    "            \"parameters\": {\n",
    "                \"properties\": {\n",
    "                    param_name: {\"type\": param.annotation.__name__ if param.annotation != param.empty else \"unknown\"}\n",
    "                    for param_name, param in sigs.parameters.items()\n",
    "                }\n",
    "            }\n",
    "        }\n",
    "\n",
    "        return json.dumps(schema, indent=4)\n",
    "\n",
    "    def generate_tools_schema(self):\n",
    "        \"\"\"\n",
    "        Generate JSON schemas for all registered tools.\n",
    "        \n",
    "        Returns\n",
    "        -------\n",
    "        str\n",
    "            A concatenation of JSON schemas for all tools, each schema on a new line.\n",
    "        \"\"\"\n",
    "        schemas = [self.get_json_schema(func) for func in self.tools.values()]\n",
    "        return \"\\n\".join(schemas)\n"
   ]
  },
  {
   "cell_type": "code",
   "execution_count": 474,
   "metadata": {},
   "outputs": [],
   "source": [
    "# Instanciar o registro de ferramentas\n",
    "tool_registry = ToolRegistry()\n",
    "\n",
    "# Registrar as funções\n",
    "tool_registry.register(\"summation\", summation)\n",
    "tool_registry.register(\"multiplication\", multiplication)\n",
    "\n",
    "tools_schemas_string = tool_registry.generate_tools_schema()"
   ]
  },
  {
   "cell_type": "code",
   "execution_count": 486,
   "metadata": {},
   "outputs": [],
   "source": [
    "TOOL_PROMPT = \"\"\"You are a function calling AI model. You may call one or more functions to assist with the user query. You are provided with function signatures within <tools></tools> XML tags:\n",
    "\n",
    "For each function call, return a json object with function name and arguments within <tool_call></tool_call> XML tags:\n",
    "\n",
    "<tool_call>\n",
    "{\"name\": <function-name>, \"arguments\": <args-json-object>}\n",
    "</tool_call>\n",
    "\n",
    "Here are the available tools:\n",
    "\n",
    "<tools>\n",
    "%s\n",
    "</tools>\n",
    "\"\"\" % tools_schemas_string"
   ]
  },
  {
   "cell_type": "code",
   "execution_count": 487,
   "metadata": {},
   "outputs": [],
   "source": [
    "tool_chat_history = [\n",
    "    {\n",
    "        \"role\": \"system\",\n",
    "        \"content\": TOOL_PROMPT,\n",
    "    }\n",
    "]\n",
    "\n",
    "agent_chat_history = []\n",
    "\n",
    "USER_PROMPT = \"Can you multiple 25 by 12?\"\n",
    "\n",
    "tool_chat_history.append(\n",
    "    {\"role\": \"user\", \"content\": USER_PROMPT}\n",
    ")\n",
    "agent_chat_history.append(\n",
    "    {\"role\": \"user\", \"content\": USER_PROMPT}\n",
    ")\n",
    "\n",
    "tool_call_request = client.chat(model=model_name, messages=tool_chat_history)\n",
    "\n",
    "tool_call_str = tool_call_request['message']['content']\n",
    "tool_info = parse_tool_call(tool_call_str)\n",
    "\n",
    "tool_call_result = tool_registry.get_function(tool_info['name'])(**tool_info['arguments'])\n",
    "\n",
    "agent_chat_history.append({\n",
    "    \"role\": \"user\",\n",
    "    \"content\": f\"Observation: {tool_call_result}\"\n",
    "})\n",
    "\n",
    "tool_response = client.chat(model=model_name, messages=agent_chat_history)\n",
    "\n",
    "response_using_tool = tool_response['message']['content']"
   ]
  },
  {
   "cell_type": "code",
   "execution_count": 496,
   "metadata": {},
   "outputs": [
    {
     "data": {
      "text/plain": [
       "\"Certainly! The product of 25 and 12 is indeed 300. Here's the calculation:\\n\\n\\\\[ 25 \\\\times 12 = 300 \\\\]\\n\\nIs there anything else you'd like to know about this multiplication or any other math-related questions?\""
      ]
     },
     "execution_count": 496,
     "metadata": {},
     "output_type": "execute_result"
    }
   ],
   "source": [
    "response_using_tool "
   ]
  }
 ],
 "metadata": {
  "kernelspec": {
   "display_name": "agents",
   "language": "python",
   "name": "python3"
  },
  "language_info": {
   "codemirror_mode": {
    "name": "ipython",
    "version": 3
   },
   "file_extension": ".py",
   "mimetype": "text/x-python",
   "name": "python",
   "nbconvert_exporter": "python",
   "pygments_lexer": "ipython3",
   "version": "3.10.12"
  }
 },
 "nbformat": 4,
 "nbformat_minor": 2
}
