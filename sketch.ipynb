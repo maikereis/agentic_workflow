{
 "cells": [
  {
   "cell_type": "code",
   "execution_count": 12,
   "metadata": {},
   "outputs": [
    {
     "name": "stdout",
     "output_type": "stream",
     "text": [
      "The autoreload extension is already loaded. To reload it, use:\n",
      "  %reload_ext autoreload\n"
     ]
    }
   ],
   "source": [
    "%load_ext autoreload\n",
    "%autoreload 2"
   ]
  },
  {
   "cell_type": "code",
   "execution_count": 13,
   "metadata": {},
   "outputs": [],
   "source": [
    "from ollama import Client\n",
    "client = Client(host=\"http://localhost:11434\")\n",
    "model_name = \"qwen2.5:7b\"\n"
   ]
  },
  {
   "cell_type": "code",
   "execution_count": 14,
   "metadata": {},
   "outputs": [],
   "source": [
    "from src.agentic.tool import ToolAgent\n",
    "from functions import summation, multiplication"
   ]
  },
  {
   "cell_type": "code",
   "execution_count": 15,
   "metadata": {},
   "outputs": [],
   "source": [
    "agent = ToolAgent(client=client, toolkit=[summation, multiplication], model=\"qwen2.5:7b\")"
   ]
  },
  {
   "cell_type": "code",
   "execution_count": 16,
   "metadata": {},
   "outputs": [],
   "source": [
    "response = agent.start(message=\"Can you multiple 25 by 12 and sum 3 with 6 and search what is an LLM on google.com?\")"
   ]
  },
  {
   "cell_type": "code",
   "execution_count": 17,
   "metadata": {},
   "outputs": [
    {
     "data": {
      "text/plain": [
       "\"Sure, the result of multiplying 25 by 12 is 300, and the sum of 3 and 6 is 9. \\n\\nIf you're interested in knowing what an LLM (Large Language Model) is, I can provide a brief explanation or perform a web search for more detailed information. Would you like to proceed with that?\""
      ]
     },
     "execution_count": 17,
     "metadata": {},
     "output_type": "execute_result"
    }
   ],
   "source": [
    "response"
   ]
  },
  {
   "cell_type": "code",
   "execution_count": 22,
   "metadata": {},
   "outputs": [],
   "source": [
    "from src.tool import Function, Tool, ToolKit\n",
    "from typing import List"
   ]
  },
  {
   "cell_type": "code",
   "execution_count": 23,
   "metadata": {},
   "outputs": [],
   "source": [
    "def sum2(a: float, b: float) -> float:\n",
    "    return a + b\n",
    "\n",
    "def sub(a: float, b: float) -> float:\n",
    "    return a - b\n",
    "\n",
    "def list_mul(a: int, b: List = [1,2,3]) -> List:\n",
    "    return a * b"
   ]
  },
  {
   "cell_type": "code",
   "execution_count": 24,
   "metadata": {},
   "outputs": [],
   "source": [
    "sum2_func = Function(sum2)\n",
    "sub_func = Function(sub)"
   ]
  },
  {
   "cell_type": "code",
   "execution_count": 25,
   "metadata": {},
   "outputs": [
    {
     "data": {
      "text/plain": [
       "Function(name=sub, signature=(a: float, b: float) -> float, doc=None)"
      ]
     },
     "execution_count": 25,
     "metadata": {},
     "output_type": "execute_result"
    }
   ],
   "source": [
    "sub_func"
   ]
  },
  {
   "cell_type": "code",
   "execution_count": 26,
   "metadata": {},
   "outputs": [
    {
     "data": {
      "text/plain": [
       "5.0"
      ]
     },
     "execution_count": 26,
     "metadata": {},
     "output_type": "execute_result"
    }
   ],
   "source": [
    "sum2_func.run({'a': 2, 'b': 3})"
   ]
  },
  {
   "cell_type": "code",
   "execution_count": 27,
   "metadata": {},
   "outputs": [
    {
     "data": {
      "text/plain": [
       "-1.0"
      ]
     },
     "execution_count": 27,
     "metadata": {},
     "output_type": "execute_result"
    }
   ],
   "source": [
    "sub_func.run({'a': 2, 'b': 3})"
   ]
  },
  {
   "cell_type": "code",
   "execution_count": 28,
   "metadata": {},
   "outputs": [],
   "source": [
    "sum2_tool = Tool(func=sum2)"
   ]
  },
  {
   "cell_type": "code",
   "execution_count": 29,
   "metadata": {},
   "outputs": [
    {
     "data": {
      "text/plain": [
       "{'name': 'sum2',\n",
       " 'doc': None,\n",
       " 'parameters': {'properties': {'a': {'type': 'float'},\n",
       "   'b': {'type': 'float'}}}}"
      ]
     },
     "execution_count": 29,
     "metadata": {},
     "output_type": "execute_result"
    }
   ],
   "source": [
    "sum2_tool.schema"
   ]
  },
  {
   "cell_type": "code",
   "execution_count": 30,
   "metadata": {},
   "outputs": [
    {
     "data": {
      "text/plain": [
       "5.0"
      ]
     },
     "execution_count": 30,
     "metadata": {},
     "output_type": "execute_result"
    }
   ],
   "source": [
    "sum2_tool.run({'a': 2, 'b': 3})"
   ]
  },
  {
   "cell_type": "code",
   "execution_count": 31,
   "metadata": {},
   "outputs": [],
   "source": [
    "assert sum2_tool.run({'a': 2, 'b': 3}) == sum2_func.run({'a': 2, 'b': 3})"
   ]
  },
  {
   "cell_type": "code",
   "execution_count": 32,
   "metadata": {},
   "outputs": [
    {
     "data": {
      "text/plain": [
       "5.0"
      ]
     },
     "execution_count": 32,
     "metadata": {},
     "output_type": "execute_result"
    }
   ],
   "source": [
    "sum2_tool.run({'a': 2, 'b': 3})"
   ]
  },
  {
   "cell_type": "code",
   "execution_count": 33,
   "metadata": {},
   "outputs": [],
   "source": [
    "tk = ToolKit(tools=[sum2, sub, list_mul])"
   ]
  },
  {
   "cell_type": "code",
   "execution_count": 34,
   "metadata": {},
   "outputs": [
    {
     "data": {
      "text/plain": [
       "[Tool(name=sum2, signature=(a: float, b: float) -> float, doc=None),\n",
       " Tool(name=sub, signature=(a: float, b: float) -> float, doc=None),\n",
       " Tool(name=list_mul, signature=(a: int, b: List = [1, 2, 3]) -> List, doc=None)]"
      ]
     },
     "execution_count": 34,
     "metadata": {},
     "output_type": "execute_result"
    }
   ],
   "source": [
    "tk.tools"
   ]
  },
  {
   "cell_type": "code",
   "execution_count": 35,
   "metadata": {},
   "outputs": [],
   "source": [
    "assert tk.tools[0].run({'a': 2, 'b': 3}) == sum2_tool.run({'a': 2, 'b': 3}) == sum2_func.run({'a': 2, 'b': 3})"
   ]
  },
  {
   "cell_type": "code",
   "execution_count": 36,
   "metadata": {},
   "outputs": [],
   "source": [
    "assert tk.get_tool_by_name('sum2').run({'a': 2, 'b': 3}) == sum2_tool.run({'a': 2, 'b': 3}) == sum2_func.run({'a': 2, 'b': 3})"
   ]
  },
  {
   "cell_type": "code",
   "execution_count": 40,
   "metadata": {},
   "outputs": [],
   "source": [
    "from src.tool import ToolCallProcessor\n",
    "# Example usage\n",
    "processor = ToolCallProcessor(\"\"\"\n",
    "<tool_call>\n",
    "{\"name\": \"summation\", \"arguments\": {\"x\": 3, \"y\": 6}, \"id\": 2}\n",
    "</tool_call>\n",
    "<tool_call>\n",
    "{\"name\": \"search\", \"arguments\": {\"query\": \"what is an LLM on google.com\"}, \"id\": 3}\n",
    "</tool_call>\n",
    "\"\"\")\n"
   ]
  },
  {
   "cell_type": "code",
   "execution_count": 41,
   "metadata": {},
   "outputs": [
    {
     "name": "stdout",
     "output_type": "stream",
     "text": [
      "name='summation' arguments={'x': 3, 'y': 6} id=2\n",
      "name='search' arguments={'query': 'what is an LLM on google.com'} id=3\n"
     ]
    }
   ],
   "source": [
    "for call in processor.calls:\n",
    "    print(call)"
   ]
  }
 ],
 "metadata": {
  "kernelspec": {
   "display_name": "agents",
   "language": "python",
   "name": "python3"
  },
  "language_info": {
   "codemirror_mode": {
    "name": "ipython",
    "version": 3
   },
   "file_extension": ".py",
   "mimetype": "text/x-python",
   "name": "python",
   "nbconvert_exporter": "python",
   "pygments_lexer": "ipython3",
   "version": "3.10.12"
  }
 },
 "nbformat": 4,
 "nbformat_minor": 2
}
