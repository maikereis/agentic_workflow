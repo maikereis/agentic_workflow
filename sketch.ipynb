{
 "cells": [
  {
   "cell_type": "code",
   "execution_count": 385,
   "metadata": {},
   "outputs": [
    {
     "name": "stdout",
     "output_type": "stream",
     "text": [
      "The autoreload extension is already loaded. To reload it, use:\n",
      "  %reload_ext autoreload\n"
     ]
    }
   ],
   "source": [
    "%load_ext autoreload\n",
    "%autoreload 2"
   ]
  },
  {
   "cell_type": "code",
   "execution_count": 386,
   "metadata": {},
   "outputs": [],
   "source": [
    "import json\n",
    "from inspect import signature\n",
    "from pydantic import BaseModel, create_model\n",
    "from typing import List, Any, Callable, Union, Mapping"
   ]
  },
  {
   "cell_type": "code",
   "execution_count": 387,
   "metadata": {},
   "outputs": [],
   "source": [
    "class Function(BaseModel):\n",
    "    \"\"\"\n",
    "    A wrapper around a callable to store its metadata and provide a way to run it with validation.\n",
    "    \"\"\"\n",
    "    def __init__(self, func: Callable[..., Any]):\n",
    "        super().__init__()\n",
    "        self._func = func\n",
    "        self._name = func.__name__\n",
    "        self._doc = func.__doc__\n",
    "        self._signature = signature(func)\n",
    "        self._return_type = self._signature.return_annotation\n",
    "        self._dynamic_model = get_args_model(self._signature)  # Use the dynamic model class here.\n",
    "\n",
    "    def get_args_model(signature: inspect.Signature):\n",
    "        model = create_model(\n",
    "            'DynamicArgs',\n",
    "            **{\n",
    "                param_name: (param.annotation, ...)\n",
    "                if param.annotation != param.empty\n",
    "                else (Any, ...)\n",
    "                for param_name, param in signature.parameters.items()\n",
    "            }\n",
    "        )\n",
    "        return model\n",
    "\n",
    "    @property\n",
    "    def name(self):\n",
    "        return self._name\n",
    "\n",
    "    @property\n",
    "    def doc(self):\n",
    "        return self._doc\n",
    "\n",
    "    @property\n",
    "    def return_type(self):\n",
    "        return self._return_type\n",
    "\n",
    "    def run(self, args: Mapping[str, Any]) -> Any:\n",
    "        \"\"\"\n",
    "        Run the function with the provided arguments after validation.\n",
    "        \"\"\"\n",
    "        # Validate the args using the dynamic model.\n",
    "        validated_args = self._dynamic_model.model_validate(args)\n",
    "        \n",
    "        # Call the function with unpacked arguments from the validated BaseModel.\n",
    "        result = self._func(**validated_args.model_dump())\n",
    "        \n",
    "        # Check if the result matches the expected return type.\n",
    "        assert self._return_type == type(result), f\"Expected return type {self._return_type}, but got {type(result)}\"\n",
    "        return result\n",
    "\n",
    "    def __repr__(self):\n",
    "        doc_preview = (self._doc[:30] + '...') if self._doc and len(self._doc) > 30 else self._doc\n",
    "        return f\"Function(name={self._name}, signature={self._signature}, doc={doc_preview})\"\n",
    "\n",
    "class Tool(Function):\n",
    "    def __init__(self, func: Callable[..., Any]):\n",
    "        super().__init__(func)\n",
    "    \n",
    "    @property\n",
    "    def schema(self):\n",
    "        schema = {\n",
    "            \"name\": self.name,\n",
    "            \"doc\": self.doc,\n",
    "            \"parameters\": {\n",
    "                \"properties\": {\n",
    "                    param_name: {\"type\": param.annotation.__name__ if param.annotation != param.empty else \"unknown\"}\n",
    "                    for param_name, param in self._signature.parameters.items()\n",
    "                }\n",
    "            }\n",
    "        }\n",
    "    \n",
    "        return schema\n",
    "\n",
    "    def __repr__(self):\n",
    "        doc_preview = (self._doc[:30] + '...') if self._doc and len(self._doc) > 30 else self._doc\n",
    "        return f\"Tool(name={self._name}, signature={self._signature}, doc={doc_preview})\"\n",
    "\n",
    "\n",
    "class ToolKit(BaseModel):\n",
    "    def __init__(self, tools: Union[Callable[..., Any], List[Callable[..., Any]]]):\n",
    "        super().__init__()\n",
    "        self._tools = {}\n",
    "        self.tools = tools  # Use the setter to initialize tools\n",
    "\n",
    "    @property\n",
    "    def tools(self) -> List[Tool]:\n",
    "        return list(self._tools.values())\n",
    "\n",
    "    @tools.setter\n",
    "    def tools(self, tools: Union[Callable[..., Any], List[Callable[..., Any]]]):\n",
    "        if not isinstance(tools, list):\n",
    "            tools = [tools]\n",
    "\n",
    "        for tool in tools:\n",
    "            tool_instance = Tool(tool)\n",
    "            name = tool_instance.name\n",
    "\n",
    "            # Handle conflicts by appending a number if a name already exists\n",
    "            if name in self._tools:\n",
    "                counter = 1\n",
    "                new_name = f\"{name}_{counter}\"\n",
    "                while new_name in self._tools:\n",
    "                    counter += 1\n",
    "                    new_name = f\"{name}_{counter}\"\n",
    "                name = new_name\n",
    "\n",
    "            # Store the tool instance with the resolved name\n",
    "            self._tools[name] = tool_instance\n",
    "\n",
    "    def tools_schemas(self) -> List[dict]:\n",
    "        # Return a list of schemas for each Tool in the toolkit\n",
    "        return [tool.schema for tool in self._tools.values()]\n",
    "\n",
    "    def get_tool_by_name(self, name: str) -> Union[Tool, None]:\n",
    "        \"\"\"\n",
    "        Retrieve a Tool by its name.\n",
    "\n",
    "        Parameters:\n",
    "        - name (str): The name of the tool.\n",
    "\n",
    "        Returns:\n",
    "        - Tool: The Tool instance if found.\n",
    "        - None: If no tool with the given name exists.\n",
    "        \"\"\"\n",
    "        return self._tools.get(name)\n",
    "\n",
    "    def __repr__(self):\n",
    "        return 'ToolKit'\n",
    "\n",
    "def test(a: int, b: List = [1,2,3]) -> list:\n",
    "    return a * b\n",
    "\n",
    "def test2(c: str, d: int) -> str:\n",
    "    return c*d\n"
   ]
  },
  {
   "cell_type": "code",
   "execution_count": 388,
   "metadata": {},
   "outputs": [],
   "source": [
    "def sum2(a: float, b: float) -> float:\n",
    "    return a + b\n",
    "\n",
    "def sub(a: float, b: float) -> float:\n",
    "    return a - b\n",
    "\n",
    "def list_mul(a: int, b: List = [1,2,3]) -> list:\n",
    "    return a * b"
   ]
  },
  {
   "cell_type": "code",
   "execution_count": 389,
   "metadata": {},
   "outputs": [],
   "source": [
    "sum2_func = Function(sum2)\n",
    "sub_func = Function(sub)"
   ]
  },
  {
   "cell_type": "code",
   "execution_count": 390,
   "metadata": {},
   "outputs": [
    {
     "data": {
      "text/plain": [
       "Function(name=sub, signature=(a: float, b: float) -> float, doc=None)"
      ]
     },
     "execution_count": 390,
     "metadata": {},
     "output_type": "execute_result"
    }
   ],
   "source": [
    "sub_func"
   ]
  },
  {
   "cell_type": "code",
   "execution_count": 391,
   "metadata": {},
   "outputs": [
    {
     "data": {
      "text/plain": [
       "5.0"
      ]
     },
     "execution_count": 391,
     "metadata": {},
     "output_type": "execute_result"
    }
   ],
   "source": [
    "sum2_func.run({'a': 2, 'b': 3})"
   ]
  },
  {
   "cell_type": "code",
   "execution_count": 392,
   "metadata": {},
   "outputs": [
    {
     "data": {
      "text/plain": [
       "-1.0"
      ]
     },
     "execution_count": 392,
     "metadata": {},
     "output_type": "execute_result"
    }
   ],
   "source": [
    "sub_func.run({'a': 2, 'b': 3})"
   ]
  },
  {
   "cell_type": "code",
   "execution_count": 393,
   "metadata": {},
   "outputs": [],
   "source": [
    "sum2_tool = Tool(func=sum2)"
   ]
  },
  {
   "cell_type": "code",
   "execution_count": 394,
   "metadata": {},
   "outputs": [
    {
     "data": {
      "text/plain": [
       "{'name': 'sum2',\n",
       " 'doc': None,\n",
       " 'parameters': {'properties': {'a': {'type': 'float'},\n",
       "   'b': {'type': 'float'}}}}"
      ]
     },
     "execution_count": 394,
     "metadata": {},
     "output_type": "execute_result"
    }
   ],
   "source": [
    "sum2_tool.schema"
   ]
  },
  {
   "cell_type": "code",
   "execution_count": 395,
   "metadata": {},
   "outputs": [
    {
     "data": {
      "text/plain": [
       "5.0"
      ]
     },
     "execution_count": 395,
     "metadata": {},
     "output_type": "execute_result"
    }
   ],
   "source": [
    "sum2_tool.run({'a': 2, 'b': 3})"
   ]
  },
  {
   "cell_type": "code",
   "execution_count": 396,
   "metadata": {},
   "outputs": [],
   "source": [
    "assert sum2_tool.run({'a': 2, 'b': 3}) == sum2_func.run({'a': 2, 'b': 3})"
   ]
  },
  {
   "cell_type": "code",
   "execution_count": 397,
   "metadata": {},
   "outputs": [
    {
     "data": {
      "text/plain": [
       "5.0"
      ]
     },
     "execution_count": 397,
     "metadata": {},
     "output_type": "execute_result"
    }
   ],
   "source": [
    "sum2_tool.run({'a': 2, 'b': 3})"
   ]
  },
  {
   "cell_type": "code",
   "execution_count": 398,
   "metadata": {},
   "outputs": [],
   "source": [
    "tk = ToolKit(tools=[sum2, sub, list_mul])"
   ]
  },
  {
   "cell_type": "code",
   "execution_count": 399,
   "metadata": {},
   "outputs": [
    {
     "data": {
      "text/plain": [
       "[Tool(name=sum2, signature=(a: float, b: float) -> float, doc=None),\n",
       " Tool(name=sub, signature=(a: float, b: float) -> float, doc=None),\n",
       " Tool(name=list_mul, signature=(a: int, b: List = [1, 2, 3]) -> list, doc=None)]"
      ]
     },
     "execution_count": 399,
     "metadata": {},
     "output_type": "execute_result"
    }
   ],
   "source": [
    "tk.tools"
   ]
  },
  {
   "cell_type": "code",
   "execution_count": 400,
   "metadata": {},
   "outputs": [],
   "source": [
    "assert tk.tools[0].run({'a': 2, 'b': 3}) == sum2_tool.run({'a': 2, 'b': 3}) == sum2_func.run({'a': 2, 'b': 3})"
   ]
  },
  {
   "cell_type": "code",
   "execution_count": 401,
   "metadata": {},
   "outputs": [],
   "source": [
    "assert tk.get_tool_by_name('sum2').run({'a': 2, 'b': 3}) == sum2_tool.run({'a': 2, 'b': 3}) == sum2_func.run({'a': 2, 'b': 3})"
   ]
  }
 ],
 "metadata": {
  "kernelspec": {
   "display_name": "agents",
   "language": "python",
   "name": "python3"
  },
  "language_info": {
   "codemirror_mode": {
    "name": "ipython",
    "version": 3
   },
   "file_extension": ".py",
   "mimetype": "text/x-python",
   "name": "python",
   "nbconvert_exporter": "python",
   "pygments_lexer": "ipython3",
   "version": "3.10.12"
  }
 },
 "nbformat": 4,
 "nbformat_minor": 2
}
