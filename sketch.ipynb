{
 "cells": [
  {
   "cell_type": "code",
   "execution_count": 133,
   "metadata": {},
   "outputs": [
    {
     "name": "stdout",
     "output_type": "stream",
     "text": [
      "The autoreload extension is already loaded. To reload it, use:\n",
      "  %reload_ext autoreload\n"
     ]
    }
   ],
   "source": [
    "%load_ext autoreload\n",
    "%autoreload 2"
   ]
  },
  {
   "cell_type": "code",
   "execution_count": 141,
   "metadata": {},
   "outputs": [
    {
     "data": {
      "text/plain": [
       "[1, 2]"
      ]
     },
     "execution_count": 141,
     "metadata": {},
     "output_type": "execute_result"
    }
   ],
   "source": [
    "import json\n",
    "from inspect import signature\n",
    "from pydantic import BaseModel, create_model\n",
    "from typing import List, Any, Callable\n",
    "\n",
    "\n",
    "\n",
    "class Function(BaseModel):\n",
    "    def __init__(self, func: Callable[..., Any]):\n",
    "        super().__init__()\n",
    "        self._func = func\n",
    "        self._name = func.__name__\n",
    "        self._doc = func.__doc__\n",
    "        self._signature = signature(func)\n",
    "        self._return_type = self._signature.return_annotation\n",
    "\n",
    "    def name(self):\n",
    "        return self._name\n",
    "\n",
    "    def doc(self):\n",
    "        return self._doc\n",
    "\n",
    "    def run(self, args: Any) -> Any:\n",
    "        # If args is not already a BaseModel, attempt to create a dynamic model.\n",
    "        if not isinstance(args, BaseModel):\n",
    "            # Create a model dynamically based on the function's signature.\n",
    "            model_cls = create_model('DynamicArgs', **{k: (v.annotation, ...) for k, v in self._signature.parameters.items()})\n",
    "            args = model_cls(**args)\n",
    "        \n",
    "        # Call the function with unpacked arguments from the BaseModel.\n",
    "        result = self._func(**args.model_dump())\n",
    "        \n",
    "        # Check if the result matches the expected return type.\n",
    "        assert self._return_type == type(result), f\"Expected return type {self._return_type}, but got {type(result)}\"\n",
    "        return result\n",
    "\n",
    "class Tool(Function):\n",
    "    def __init__(self, func: Callable[..., Any]):\n",
    "        super().__init__(func)\n",
    "    \n",
    "    @property\n",
    "    def schema(self):\n",
    "        schema = {\n",
    "            \"name\": self.name(),\n",
    "            \"doc\": self.doc(),\n",
    "            \"parameters\": {\n",
    "                \"properties\": {\n",
    "                    param_name: {\"type\": param.annotation.__name__ if param.annotation != param.empty else \"unknown\"}\n",
    "                    for param_name, param in self._signature.parameters.items()\n",
    "                }\n",
    "            }\n",
    "        }\n",
    "    \n",
    "        return schema\n",
    "\n",
    "class ToolKit(BaseModel):\n",
    "    def __init__(self, tools: List[Tool]):\n",
    "        super().__init__()\n",
    "        # Store each function as a Tool instance\n",
    "        self._tools = tools\n",
    "        \n",
    "    def tools(self):\n",
    "        return self._tools\n",
    "\n",
    "\n",
    "def test(a: int, b: List = [1,2,3]) -> list:\n",
    "    return a * b\n",
    "\n",
    "def test2(c: str, d: int) -> str:\n",
    "    return c*d\n",
    "\n",
    "tool = Tool(test)\n",
    "result = tool.run({'a': 1, 'b': [1, 2]})\n",
    "result"
   ]
  },
  {
   "cell_type": "code",
   "execution_count": 142,
   "metadata": {},
   "outputs": [],
   "source": [
    "tools = ToolKit([test, test2])"
   ]
  },
  {
   "cell_type": "code",
   "execution_count": 147,
   "metadata": {},
   "outputs": [
    {
     "data": {
      "text/plain": [
       "[<function __main__.test(a: int, b: List = [1, 2, 3]) -> list>,\n",
       " <function __main__.test2(c: str, d: int) -> str>]"
      ]
     },
     "execution_count": 147,
     "metadata": {},
     "output_type": "execute_result"
    }
   ],
   "source": [
    "tools.tools()"
   ]
  },
  {
   "cell_type": "code",
   "execution_count": 140,
   "metadata": {},
   "outputs": [
    {
     "data": {
      "text/plain": [
       "[1, 2, 3, 1, 2, 3, 1, 2, 3, 1, 2, 3]"
      ]
     },
     "execution_count": 140,
     "metadata": {},
     "output_type": "execute_result"
    }
   ],
   "source": [
    "\n"
   ]
  },
  {
   "cell_type": "code",
   "execution_count": 139,
   "metadata": {},
   "outputs": [
    {
     "data": {
      "text/plain": [
       "'test'"
      ]
     },
     "execution_count": 139,
     "metadata": {},
     "output_type": "execute_result"
    }
   ],
   "source": [
    "function.name()"
   ]
  },
  {
   "cell_type": "code",
   "execution_count": 54,
   "metadata": {},
   "outputs": [],
   "source": []
  },
  {
   "cell_type": "code",
   "execution_count": null,
   "metadata": {},
   "outputs": [],
   "source": []
  },
  {
   "cell_type": "code",
   "execution_count": 123,
   "metadata": {},
   "outputs": [
    {
     "ename": "NameError",
     "evalue": "name 'sdf' is not defined",
     "output_type": "error",
     "traceback": [
      "\u001b[0;31m---------------------------------------------------------------------------\u001b[0m",
      "\u001b[0;31mNameError\u001b[0m                                 Traceback (most recent call last)",
      "Cell \u001b[0;32mIn[123], line 1\u001b[0m\n\u001b[0;32m----> 1\u001b[0m \u001b[43msdf\u001b[49m\n",
      "\u001b[0;31mNameError\u001b[0m: name 'sdf' is not defined"
     ]
    }
   ],
   "source": [
    "sdf"
   ]
  },
  {
   "cell_type": "code",
   "execution_count": 13,
   "metadata": {},
   "outputs": [],
   "source": [
    "sig = signature(test)"
   ]
  },
  {
   "cell_type": "code",
   "execution_count": 23,
   "metadata": {},
   "outputs": [
    {
     "name": "stdout",
     "output_type": "stream",
     "text": [
      "a <class 'str'>\n"
     ]
    }
   ],
   "source": [
    "for param_name, param in sig.parameters.items():\n",
    "    print(param_name, param.annotation)"
   ]
  },
  {
   "cell_type": "code",
   "execution_count": 15,
   "metadata": {},
   "outputs": [
    {
     "data": {
      "text/plain": [
       "str"
      ]
     },
     "execution_count": 15,
     "metadata": {},
     "output_type": "execute_result"
    }
   ],
   "source": [
    "sig.return_annotation"
   ]
  }
 ],
 "metadata": {
  "kernelspec": {
   "display_name": "agents",
   "language": "python",
   "name": "python3"
  },
  "language_info": {
   "codemirror_mode": {
    "name": "ipython",
    "version": 3
   },
   "file_extension": ".py",
   "mimetype": "text/x-python",
   "name": "python",
   "nbconvert_exporter": "python",
   "pygments_lexer": "ipython3",
   "version": "3.10.12"
  }
 },
 "nbformat": 4,
 "nbformat_minor": 2
}
